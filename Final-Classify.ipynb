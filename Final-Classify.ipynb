{
 "cells": [
  {
   "attachments": {},
   "cell_type": "markdown",
   "metadata": {},
   "source": [
    "**Classification**"
   ]
  },
  {
   "cell_type": "code",
   "execution_count": 1,
   "metadata": {},
   "outputs": [],
   "source": [
    "import os\n",
    "import numpy as np\n",
    "from tensorflow import keras\n",
    "import tensorflow as tf\n",
    "import matplotlib.pyplot as plt\n",
    "import pandas as pd\n",
    "import seaborn as sns\n",
    "\n",
    "os.environ['TF_CPP_MIN_LOG_LEVEL'] = '1'\n",
    "os.environ[\"TFHUB_CACHE_DIR\"] = '/tmp/tfhub'\n",
    "\n",
    "#Load datasets\n",
    "fake_reviews = pd.read_csv('reviews_generated.csv',usecols=['text'])\n",
    "real_reviews = pd.read_csv('bigreviews.csv',usecols=['text'])\n",
    "\n",
    "#Add new column indicating real or fake\n",
    "#real = 1 / fake = 0\n",
    "real_reviews['real'] = 1\n",
    "fake_reviews['real'] = 0\n"
   ]
  },
  {
   "attachments": {},
   "cell_type": "markdown",
   "metadata": {},
   "source": [
    "*Rate of 33% of reviews suspected to be fake, so dataset will be made with this concept in mind*\n",
    "\n",
    "Generated = 7252 \n",
    "\n",
    "Real = 14508\n",
    "\n",
    "Total = 21756"
   ]
  },
  {
   "cell_type": "code",
   "execution_count": 60,
   "metadata": {},
   "outputs": [],
   "source": [
    "#Select the last 21756 reviews\n",
    "real_reviews = real_reviews.tail(14504)"
   ]
  },
  {
   "cell_type": "code",
   "execution_count": 61,
   "metadata": {},
   "outputs": [],
   "source": [
    "#Join databases\n",
    "full_reviews = pd.concat([real_reviews, fake_reviews], ignore_index=True)\n",
    "full_reviews.to_csv('full_reviews.csv', index=False)"
   ]
  },
  {
   "cell_type": "code",
   "execution_count": 62,
   "metadata": {},
   "outputs": [
    {
     "name": "stdout",
     "output_type": "stream",
     "text": [
      "                                                    text  real\n",
      "0      My MacBook Pro retina was failing do the stupi...     1\n",
      "1      My boyfriend and I found this place doing a lo...     1\n",
      "2      Hubby and I decided to try.  Never been to Ger...     1\n",
      "3      Ok so this is really Aneu! I really don't know...     1\n",
      "4      Finally got to try Smee's recently.  I like th...     1\n",
      "...                                                  ...   ...\n",
      "21751  we were looking for a place to eat and we foun...     0\n",
      "21752  second time here.  the food is good, but the s...     0\n",
      "21753  tucked on 76, it's a great place to go to for ...     0\n",
      "21754  these hand grenades are the best! \\n\\nthe staf...     0\n",
      "21755  this is totallly a great place to go for a cas...     0\n",
      "\n",
      "[21756 rows x 2 columns]\n"
     ]
    }
   ],
   "source": [
    "print(full_reviews)"
   ]
  },
  {
   "attachments": {},
   "cell_type": "markdown",
   "metadata": {},
   "source": [
    "*Clean the dataset*"
   ]
  },
  {
   "cell_type": "code",
   "execution_count": 3,
   "metadata": {},
   "outputs": [],
   "source": [
    "full_reviews = pd.read_csv('full_reviews.csv')"
   ]
  },
  {
   "cell_type": "code",
   "execution_count": 5,
   "metadata": {},
   "outputs": [],
   "source": [
    "#Normalization and spell check\n",
    "import itertools\n",
    "import re\n",
    "from autocorrect import Speller\n",
    "import nltk\n",
    "from nltk.stem import WordNetLemmatizer\n",
    "from sklearn.utils import shuffle\n",
    "from sklearn.model_selection import train_test_split\n",
    "\n",
    "\n",
    "def correct_text(text):\n",
    "    #One letter in a word should not be present more than three times in continuation\n",
    "    text_correction = ''.join(''.join(s)[:3] for _, s in itertools.groupby(text))\n",
    "    #Apply autocorrection to the corrected text\n",
    "    spell = Speller(lang='en')\n",
    "    ans = spell(text_correction)\n",
    "    return ans\n",
    "\n",
    "\n",
    "def normalize_text(text):\n",
    "    #Remove unicode characters\n",
    "    text = re.sub(r\"(@\\[A-Za-z0-9]+)|([^0-9A-Za-z \\t])|(\\w+:\\/\\/\\S+)|^rt|http.+?\", \"\", text)\n",
    "    #Turn to lower case\n",
    "    text = text.lower()\n",
    "    #Remove numbers\n",
    "    text = re.sub(r'\\d+', '', text)\n",
    "    #Remove punctuation\n",
    "    text = re.sub(\"[^-9A-Za-z ]\", \"\" , text)\n",
    "    #Remove double spaces\n",
    "    text = re.sub('\\s{2,}', ' ', text)\n",
    "    return text\n",
    "\n",
    "\n",
    "def remove_spacing(text):\n",
    "    #Remove all spaces and replace them with a single space\n",
    "    text = re.sub(r'\\s+', ' ', text)\n",
    "    \n",
    "    #Remove spaces before and after punctuation\n",
    "    text = re.sub(r'\\s+([.,!?])', r'\\1', text)\n",
    "    text = re.sub(r'([.,!?])\\s+', r'\\1', text)\n",
    "    \n",
    "    return text.strip()\n",
    "\n",
    "#Implement lemmatization, group words by root stem but keep the different tenses \n",
    "lemmatizer = WordNetLemmatizer()\n",
    "\n",
    "def lemm_text(text):\n",
    "    ans = lemmatizer.lemmatize(text)\n",
    "    return ans"
   ]
  },
  {
   "cell_type": "code",
   "execution_count": 64,
   "metadata": {},
   "outputs": [],
   "source": [
    "full_reviews['text'] = full_reviews['text'].apply(correct_text)\n",
    "full_reviews['text'] = full_reviews['text'].apply(normalize_text)\n",
    "full_reviews['text'] = full_reviews['text'].apply(lemm_text)\n",
    "full_reviews['text'] = full_reviews['text'].apply(remove_spacing)\n",
    "\n",
    "full_reviews = shuffle(full_reviews)\n",
    "\n",
    "full_reviews.to_csv('full_reviews_cleaned.csv', index=False)"
   ]
  },
  {
   "cell_type": "code",
   "execution_count": 2,
   "metadata": {},
   "outputs": [],
   "source": [
    "full_reviews = pd.read_csv('full_reviews_cleaned.csv')"
   ]
  },
  {
   "cell_type": "code",
   "execution_count": 15,
   "metadata": {},
   "outputs": [
    {
     "name": "stdout",
     "output_type": "stream",
     "text": [
      "871\n"
     ]
    }
   ],
   "source": [
    "#Prepare dataset for model use \n",
    "#Get the max token from data to be used in model\n",
    "max_length = 0\n",
    "for row in full_reviews['text']:\n",
    "    if len(row.split(\" \")) > max_length:\n",
    "        max_length = len(row.split(\" \"))\n",
    "\n",
    "print(max_length)"
   ]
  },
  {
   "cell_type": "code",
   "execution_count": 3,
   "metadata": {},
   "outputs": [],
   "source": [
    "mini_review_batch = full_reviews[0:5000]"
   ]
  },
  {
   "cell_type": "code",
   "execution_count": 6,
   "metadata": {},
   "outputs": [],
   "source": [
    "#Create datasets of predictors and labels\n",
    "predictors_mini = mini_review_batch['text'].values \n",
    "labels_mini = mini_review_batch['real'].values\n",
    "\n",
    "#Split the data into test / train 70%/30%\n",
    "x_train, x_test, y_train, y_test = train_test_split(predictors_mini, labels_mini, test_size=0.3, shuffle=False)"
   ]
  },
  {
   "cell_type": "code",
   "execution_count": 7,
   "metadata": {},
   "outputs": [
    {
     "name": "stdout",
     "output_type": "stream",
     "text": [
      "(3500,)\n",
      "(3500,)\n",
      "(1500,)\n",
      "(1500,)\n"
     ]
    }
   ],
   "source": [
    "print(x_train.shape)\n",
    "print(y_train.shape)\n",
    "print(x_test.shape)\n",
    "print(y_test.shape)"
   ]
  },
  {
   "attachments": {},
   "cell_type": "markdown",
   "metadata": {},
   "source": [
    "*Create Embeddings*"
   ]
  },
  {
   "cell_type": "code",
   "execution_count": 11,
   "metadata": {},
   "outputs": [],
   "source": [
    "#Load Pretrained Word2Vec\n",
    "import tensorflow_hub as hub\n",
    "embed = hub.load('Embed')"
   ]
  },
  {
   "cell_type": "code",
   "execution_count": 14,
   "metadata": {},
   "outputs": [],
   "source": [
    "def get_word2vec_enc(reviews):\n",
    "    #store the encoded reviews\n",
    "    encoded_reviews = []\n",
    "    #Iterate through the list of reviews\n",
    "    for review in reviews:\n",
    "        #split review\n",
    "        tokens = review.split(\" \")\n",
    "        word2vec_embedding = embed(tokens)\n",
    "        encoded_reviews.append(word2vec_embedding)\n",
    "    return encoded_reviews\n",
    "\n",
    "def get_padded_encoded_reviews(encoded_reviews):\n",
    "    #Pad the reviews\n",
    "    padded_reviews_encoding = []\n",
    "    \n",
    "    for enc_review in encoded_reviews:\n",
    "        #Calculate the number of zeros to pad the review with\n",
    "        zero_padding_cnt = max_length - enc_review.shape[0]\n",
    "        pad = np.zeros((1, 500))\n",
    "        #Iterate over the number of zeros to pad\n",
    "        for i in range(zero_padding_cnt):\n",
    "            #Connect the pad array and the encoded review along the 0th axis\n",
    "            enc_review = np.concatenate((pad, enc_review), axis=0)\n",
    "        padded_reviews_encoding.append(enc_review)\n",
    "    return padded_reviews_encoding"
   ]
  },
  {
   "cell_type": "code",
   "execution_count": 22,
   "metadata": {},
   "outputs": [],
   "source": [
    "#Encode the reviews\n",
    "x_train_padded_encoded = get_padded_encoded_reviews(get_word2vec_enc(x_train))\n",
    "x_test_padded_encoded = get_padded_encoded_reviews(get_word2vec_enc(x_test))"
   ]
  },
  {
   "cell_type": "code",
   "execution_count": 15,
   "metadata": {},
   "outputs": [],
   "source": [
    "#Turn values into numpy arrays so can be used in model\n",
    "train_data = np.array(x_train_padded_encoded)\n",
    "train_label = np.array(y_train)\n",
    "\n",
    "test_data = np.array(x_test_padded_encoded)\n",
    "test_label = np.array(y_test)\n",
    "#Save locally\n",
    "np.save('train_data', train_data)\n",
    "np.save('test_data', test_data)"
   ]
  },
  {
   "attachments": {},
   "cell_type": "markdown",
   "metadata": {},
   "source": [
    "**Breakpoint**"
   ]
  },
  {
   "cell_type": "code",
   "execution_count": 27,
   "metadata": {},
   "outputs": [],
   "source": [
    "train_label = np.array(y_train)\n",
    "test_label = np.array(y_test)"
   ]
  },
  {
   "cell_type": "code",
   "execution_count": 9,
   "metadata": {},
   "outputs": [],
   "source": [
    "import os\n",
    "import numpy as np\n",
    "from tensorflow import keras\n",
    "import tensorflow as tf\n",
    "import matplotlib.pyplot as plt\n",
    "import pandas as pd\n",
    "import seaborn as sns"
   ]
  },
  {
   "cell_type": "code",
   "execution_count": 25,
   "metadata": {},
   "outputs": [],
   "source": [
    "train_data = np.load('train_data.npy')\n",
    "test_data = np.load('test_data.npy')"
   ]
  },
  {
   "cell_type": "code",
   "execution_count": 28,
   "metadata": {},
   "outputs": [
    {
     "name": "stdout",
     "output_type": "stream",
     "text": [
      "3500\n",
      "1500\n"
     ]
    }
   ],
   "source": [
    "print(len(train_label))\n",
    "print(len(test_label))"
   ]
  },
  {
   "cell_type": "code",
   "execution_count": 29,
   "metadata": {},
   "outputs": [],
   "source": [
    "train_data = train_data[0:3500]\n",
    "train_label = train_label[0:3500]\n",
    "\n",
    "test_data = test_data[0:1500]\n",
    "test_label = test_label[0:1500]"
   ]
  },
  {
   "cell_type": "code",
   "execution_count": 30,
   "metadata": {},
   "outputs": [
    {
     "name": "stdout",
     "output_type": "stream",
     "text": [
      "(3500, 871, 500)\n",
      "(3500,)\n",
      "(1500, 871, 500)\n",
      "(1500,)\n"
     ]
    }
   ],
   "source": [
    "print(train_data.shape)\n",
    "print(train_label.shape)\n",
    "\n",
    "print(test_data.shape)\n",
    "print(test_label.shape)"
   ]
  },
  {
   "cell_type": "code",
   "execution_count": 20,
   "metadata": {},
   "outputs": [
    {
     "name": "stdout",
     "output_type": "stream",
     "text": [
      "[0 1 1 ... 1 0 0]\n"
     ]
    }
   ],
   "source": [
    "print(train_label)"
   ]
  },
  {
   "cell_type": "code",
   "execution_count": 14,
   "metadata": {},
   "outputs": [],
   "source": [
    "from tensorflow.keras import layers\n",
    "from tensorflow.keras import regularizers\n",
    "from tensorflow.keras.models import Sequential\n",
    "from tensorflow.keras.layers import Dense, LSTM\n",
    "from tensorflow.keras.layers import Bidirectional"
   ]
  },
  {
   "cell_type": "code",
   "execution_count": 15,
   "metadata": {},
   "outputs": [],
   "source": [
    "# Define the model's architecture\n",
    "def build_model():\n",
    "  model = tf.keras.models.Sequential()\n",
    "  model.add(tf.keras.layers.Conv1D(128, (9),activation='relu'))\n",
    "  model.add(tf.keras.layers.Dropout(0.3))\n",
    "  model.add(tf.keras.layers.MaxPooling1D((2)))\n",
    "  model.add(tf.keras.layers.Dropout(0.2))\n",
    "  model.add(tf.keras.layers.Conv1D(64, (7),activation='relu'))\n",
    "  model.add(tf.keras.layers.Dropout(0.1))\n",
    "  model.add(tf.keras.layers.MaxPooling1D((2)))\n",
    "  model.add(tf.keras.layers.Dropout(0.1))\n",
    "  model.add(tf.keras.layers.Conv1D(32, (5),activation='relu'))\n",
    "  model.add(tf.keras.layers.Flatten())\n",
    "  model.add(tf.keras.layers.Dense(1, activation='sigmoid'))\n",
    "  return model\n",
    "\n",
    "model = build_model()\n",
    "\n",
    "# Compile the model\n",
    "model.compile(\n",
    "    loss='binary_crossentropy',\n",
    "    optimizer='adam',\n",
    "    metrics=['accuracy']\n",
    ")"
   ]
  },
  {
   "cell_type": "code",
   "execution_count": 35,
   "metadata": {},
   "outputs": [
    {
     "name": "stdout",
     "output_type": "stream",
     "text": [
      "Model: \"sequential_1\"\n",
      "_________________________________________________________________\n",
      " Layer (type)                Output Shape              Param #   \n",
      "=================================================================\n",
      " conv1d_3 (Conv1D)           (None, 863, 128)          576128    \n",
      "                                                                 \n",
      " dropout_4 (Dropout)         (None, 863, 128)          0         \n",
      "                                                                 \n",
      " max_pooling1d_2 (MaxPooling  (None, 431, 128)         0         \n",
      " 1D)                                                             \n",
      "                                                                 \n",
      " dropout_5 (Dropout)         (None, 431, 128)          0         \n",
      "                                                                 \n",
      " conv1d_4 (Conv1D)           (None, 425, 64)           57408     \n",
      "                                                                 \n",
      " dropout_6 (Dropout)         (None, 425, 64)           0         \n",
      "                                                                 \n",
      " max_pooling1d_3 (MaxPooling  (None, 212, 64)          0         \n",
      " 1D)                                                             \n",
      "                                                                 \n",
      " dropout_7 (Dropout)         (None, 212, 64)           0         \n",
      "                                                                 \n",
      " conv1d_5 (Conv1D)           (None, 208, 32)           10272     \n",
      "                                                                 \n",
      " flatten_1 (Flatten)         (None, 6656)              0         \n",
      "                                                                 \n",
      " dense_1 (Dense)             (None, 1)                 6657      \n",
      "                                                                 \n",
      "=================================================================\n",
      "Total params: 650,465\n",
      "Trainable params: 650,465\n",
      "Non-trainable params: 0\n",
      "_________________________________________________________________\n"
     ]
    }
   ],
   "source": [
    "#Display the model's architecture\n",
    "model.summary()"
   ]
  },
  {
   "cell_type": "code",
   "execution_count": 16,
   "metadata": {},
   "outputs": [
    {
     "name": "stdout",
     "output_type": "stream",
     "text": [
      "Epoch 1/15\n",
      "33/33 [==============================] - 8s 67ms/step - loss: 0.4451 - accuracy: 0.7952 - val_loss: 0.3087 - val_accuracy: 0.8822\n",
      "Epoch 2/15\n",
      "33/33 [==============================] - 1s 37ms/step - loss: 0.2629 - accuracy: 0.8914 - val_loss: 0.2413 - val_accuracy: 0.8978\n",
      "Epoch 3/15\n",
      "33/33 [==============================] - 1s 37ms/step - loss: 0.1573 - accuracy: 0.9400 - val_loss: 0.1048 - val_accuracy: 0.9644\n",
      "Epoch 4/15\n",
      "33/33 [==============================] - 1s 36ms/step - loss: 0.0978 - accuracy: 0.9610 - val_loss: 0.0791 - val_accuracy: 0.9778\n",
      "Epoch 5/15\n",
      "33/33 [==============================] - 1s 36ms/step - loss: 0.0664 - accuracy: 0.9762 - val_loss: 0.0566 - val_accuracy: 0.9756\n",
      "Epoch 6/15\n",
      "33/33 [==============================] - 1s 36ms/step - loss: 0.0572 - accuracy: 0.9743 - val_loss: 0.1192 - val_accuracy: 0.9600\n",
      "Epoch 7/15\n",
      "33/33 [==============================] - 1s 37ms/step - loss: 0.0445 - accuracy: 0.9819 - val_loss: 0.0707 - val_accuracy: 0.9711\n",
      "Epoch 8/15\n",
      "33/33 [==============================] - 1s 36ms/step - loss: 0.0130 - accuracy: 0.9981 - val_loss: 0.0392 - val_accuracy: 0.9889\n",
      "Epoch 9/15\n",
      "33/33 [==============================] - 1s 36ms/step - loss: 0.0062 - accuracy: 0.9971 - val_loss: 0.0403 - val_accuracy: 0.9844\n",
      "Epoch 10/15\n",
      "33/33 [==============================] - 1s 36ms/step - loss: 0.0042 - accuracy: 0.9990 - val_loss: 0.0420 - val_accuracy: 0.9822\n",
      "Epoch 11/15\n",
      "33/33 [==============================] - 1s 36ms/step - loss: 0.0012 - accuracy: 1.0000 - val_loss: 0.0312 - val_accuracy: 0.9911\n",
      "Epoch 12/15\n",
      "33/33 [==============================] - 1s 36ms/step - loss: 8.0336e-04 - accuracy: 1.0000 - val_loss: 0.0416 - val_accuracy: 0.9867\n",
      "Epoch 13/15\n",
      "33/33 [==============================] - 1s 36ms/step - loss: 5.4359e-04 - accuracy: 1.0000 - val_loss: 0.0295 - val_accuracy: 0.9911\n",
      "Epoch 14/15\n",
      "33/33 [==============================] - 1s 36ms/step - loss: 5.6805e-04 - accuracy: 1.0000 - val_loss: 0.0341 - val_accuracy: 0.9911\n",
      "Epoch 15/15\n",
      "33/33 [==============================] - 1s 34ms/step - loss: 3.9813e-04 - accuracy: 1.0000 - val_loss: 0.0353 - val_accuracy: 0.9911\n"
     ]
    }
   ],
   "source": [
    "history = model.fit(\n",
    "    train_data, \n",
    "    train_label, \n",
    "    epochs = 15,\n",
    "    batch_size = 32,\n",
    "    validation_split=0.3,\n",
    ") "
   ]
  },
  {
   "cell_type": "code",
   "execution_count": 17,
   "metadata": {},
   "outputs": [],
   "source": [
    "#Save the weights\n",
    "model.save_weights('./saved_model_finalmodel/finalmodel')"
   ]
  },
  {
   "cell_type": "code",
   "execution_count": 26,
   "metadata": {},
   "outputs": [
    {
     "data": {
      "text/plain": [
       "<tensorflow.python.checkpoint.checkpoint.CheckpointLoadStatus at 0x1f0838e5250>"
      ]
     },
     "execution_count": 26,
     "metadata": {},
     "output_type": "execute_result"
    }
   ],
   "source": [
    "#Restore the weights\n",
    "model.load_weights('./saved_model_finalmodel/finalmodel')"
   ]
  },
  {
   "cell_type": "code",
   "execution_count": 18,
   "metadata": {},
   "outputs": [
    {
     "name": "stdout",
     "output_type": "stream",
     "text": [
      "47/47 - 1s - loss: 0.0722 - accuracy: 0.9820 - 1s/epoch - 22ms/step\n",
      "Test score: 0.07217678427696228\n",
      "Test accuracy: 0.9819999933242798\n"
     ]
    }
   ],
   "source": [
    "#Evaluate model\n",
    "score, acc = model.evaluate(test_data, test_label, verbose=2)\n",
    "print('Test score:', score)\n",
    "print('Test accuracy:', acc)"
   ]
  },
  {
   "cell_type": "code",
   "execution_count": 47,
   "metadata": {},
   "outputs": [],
   "source": [
    "tf.keras.backend.clear_session()"
   ]
  },
  {
   "cell_type": "code",
   "execution_count": 48,
   "metadata": {},
   "outputs": [
    {
     "name": "stdout",
     "output_type": "stream",
     "text": [
      "47/47 [==============================] - 1s 17ms/step\n",
      "              precision    recall  f1-score   support\n",
      "\n",
      "           0       0.95      1.00      0.97       496\n",
      "           1       1.00      0.97      0.99      1004\n",
      "\n",
      "    accuracy                           0.98      1500\n",
      "   macro avg       0.97      0.99      0.98      1500\n",
      "weighted avg       0.98      0.98      0.98      1500\n",
      "\n"
     ]
    }
   ],
   "source": [
    "#Create classiciation report\n",
    "from sklearn.metrics import classification_report, confusion_matrix\n",
    "y_pred = model.predict(test_data)\n",
    "\n",
    "#Turn to int values\n",
    "y_pred_int = np.round(y_pred).astype(int)\n",
    "\n",
    "print(classification_report(test_label, y_pred_int))"
   ]
  },
  {
   "cell_type": "code",
   "execution_count": 52,
   "metadata": {},
   "outputs": [
    {
     "data": {
      "image/png": "[encoded data removed]",
      "text/plain": [
       "<Figure size 640x480 with 2 Axes>"
      ]
     },
     "metadata": {},
     "output_type": "display_data"
    }
   ],
   "source": [
    "#Create confusion matrix\n",
    "result_final = pd.DataFrame({'Actual': test_label.flatten(), 'Predicted': y_pred_int.flatten()})\n",
    "\n",
    "#confusion matrix\n",
    "cm = confusion_matrix(result_final['Actual'], result_final['Predicted'])\n",
    "\n",
    "#heatmap for confusion matrix\n",
    "sns.heatmap(cm, annot=True, cmap='RdPu', fmt='g')\n",
    "\n",
    "plt.xlabel('Predicted label')\n",
    "plt.ylabel('True label')\n",
    "plt.title('Confusion Matrix')\n",
    "plt.show()"
   ]
  },
  {
   "cell_type": "code",
   "execution_count": 20,
   "metadata": {},
   "outputs": [
    {
     "name": "stdout",
     "output_type": "stream",
     "text": [
      "1/1 [==============================] - 0s 23ms/step\n",
      "Prediction: [[1]]\n",
      "Real: [1]\n",
      "*******\n",
      "1/1 [==============================] - 0s 24ms/step\n",
      "Prediction: [[0]]\n",
      "Real: [0]\n",
      "*******\n",
      "1/1 [==============================] - 0s 23ms/step\n",
      "Prediction: [[0]]\n",
      "Real: [0]\n",
      "*******\n",
      "1/1 [==============================] - 0s 25ms/step\n",
      "Prediction: [[0]]\n",
      "Real: [0]\n",
      "*******\n",
      "1/1 [==============================] - 0s 22ms/step\n",
      "Prediction: [[1]]\n",
      "Real: [1]\n",
      "*******\n",
      "1/1 [==============================] - 0s 23ms/step\n",
      "Prediction: [[1]]\n",
      "Real: [1]\n",
      "*******\n",
      "1/1 [==============================] - 0s 23ms/step\n",
      "Prediction: [[1]]\n",
      "Real: [1]\n",
      "*******\n",
      "1/1 [==============================] - 0s 22ms/step\n",
      "Prediction: [[1]]\n",
      "Real: [1]\n",
      "*******\n",
      "1/1 [==============================] - 0s 24ms/step\n",
      "Prediction: [[1]]\n",
      "Real: [1]\n",
      "*******\n",
      "1/1 [==============================] - 0s 24ms/step\n",
      "Prediction: [[1]]\n",
      "Real: [1]\n",
      "*******\n"
     ]
    }
   ],
   "source": [
    "#Check outputs manually\n",
    "for i in range (10):\n",
    "    x = 456+i\n",
    "    pred = model.predict(test_data[x:x+1])\n",
    "    print('Prediction:',np.round(pred).astype(int))\n",
    "    print('Real:',test_label[x:x+1])\n",
    "    print('*******')"
   ]
  }
 ],
 "metadata": {
  "kernelspec": {
   "display_name": "tf",
   "language": "python",
   "name": "python3"
  },
  "language_info": {
   "codemirror_mode": {
    "name": "ipython",
    "version": 3
   },
   "file_extension": ".py",
   "mimetype": "text/x-python",
   "name": "python",
   "nbconvert_exporter": "python",
   "pygments_lexer": "ipython3",
   "version": "3.9.15"
  },
  "orig_nbformat": 4,
  "vscode": {
   "interpreter": {
    "hash": "9396d7d05074184ad1bdffa89c9baf4b70aedb99cfe5c454adbba107973e00ee"
   }
  }
 },
 "nbformat": 4,
 "nbformat_minor": 2
}
