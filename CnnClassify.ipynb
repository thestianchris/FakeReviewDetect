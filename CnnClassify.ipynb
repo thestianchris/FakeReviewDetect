{
 "cells": [
  {
   "cell_type": "code",
   "execution_count": 1,
   "metadata": {},
   "outputs": [
    {
     "name": "stdout",
     "output_type": "stream",
     "text": [
      "320\n",
      "320\n",
      "(1280, 784, 500)\n",
      "(320, 2)\n"
     ]
    }
   ],
   "source": [
    "import numpy as np\n",
    "train_data = np.load('train_data.npy')\n",
    "train_label= np.load('train_label.npy')\n",
    "\n",
    "test_data = np.load('test_data.npy')\n",
    "test_label = np.load('test_label.npy')\n",
    "\n",
    "print(len(test_data))\n",
    "print(len(test_label))\n",
    "\n",
    "print(train_data.shape)\n",
    "print(test_label.shape)"
   ]
  },
  {
   "cell_type": "code",
   "execution_count": 2,
   "metadata": {},
   "outputs": [],
   "source": [
    "import tensorflow as tf\n",
    "from tensorflow.keras import layers\n",
    "from tensorflow.keras import regularizers\n",
    "from tensorflow.keras.models import Sequential\n",
    "from tensorflow.keras.layers import Dense, LSTM\n",
    "\n",
    "# Define the model's architecture\n",
    "model = tf.keras.models.Sequential([\n",
    "    # Add a convolutional layer with 16 filters and a kernel size of 3x3\n",
    "    tf.keras.layers.Conv2D(16, (3, 3), kernel_regularizer=regularizers.l2(0.001), activation='relu'),\n",
    "\n",
    "    # Add a max pooling layer with a pool size of 2x2\n",
    "    tf.keras.layers.MaxPooling2D((2, 2)),\n",
    "\n",
    "    # Flatten the output of the convolutional layers\n",
    "    tf.keras.layers.Flatten(),\n",
    "\n",
    "    # Add a dropout layer with a rate of 0.5\n",
    "    tf.keras.layers.Dropout(0.5),\n",
    "\n",
    "    # Add a dense layer with 16 units and ReLU activation\n",
    "    tf.keras.layers.Dense(16, kernel_regularizer=regularizers.l2(0.001),activation='relu'),\n",
    "\n",
    "    # Add a dropout layer with a rate of 0.5\n",
    "    tf.keras.layers.Dropout(0.5),\n",
    "\n",
    "    # Add a dense output layer with 2 units and sigmoid activation\n",
    "    tf.keras.layers.Dense(2, activation='sigmoid')\n",
    "])\n",
    "\n",
    "# Compile the model\n",
    "model.compile(\n",
    "    loss='categorical_crossentropy',\n",
    "    optimizer='adam',\n",
    "    metrics=['accuracy']\n",
    ")"
   ]
  },
  {
   "cell_type": "code",
   "execution_count": 3,
   "metadata": {},
   "outputs": [
    {
     "name": "stdout",
     "output_type": "stream",
     "text": [
      "Epoch 1/30\n",
      "43/43 [==============================] - 6s 66ms/step - loss: 1.1698 - accuracy: 0.5148\n",
      "Epoch 2/30\n",
      "43/43 [==============================] - 3s 59ms/step - loss: 0.8279 - accuracy: 0.6578\n",
      "Epoch 3/30\n",
      "43/43 [==============================] - 3s 62ms/step - loss: 0.6991 - accuracy: 0.7352\n",
      "Epoch 4/30\n",
      "43/43 [==============================] - 3s 59ms/step - loss: 0.6665 - accuracy: 0.7852\n",
      "Epoch 5/30\n",
      "43/43 [==============================] - 3s 61ms/step - loss: 0.6879 - accuracy: 0.8203\n",
      "Epoch 6/30\n",
      "43/43 [==============================] - 3s 64ms/step - loss: 0.6967 - accuracy: 0.8570\n",
      "Epoch 7/30\n",
      "43/43 [==============================] - 3s 58ms/step - loss: 0.6397 - accuracy: 0.9016\n",
      "Epoch 8/30\n",
      "43/43 [==============================] - 3s 59ms/step - loss: 0.6870 - accuracy: 0.9031\n",
      "Epoch 9/30\n",
      "43/43 [==============================] - 2s 58ms/step - loss: 0.8641 - accuracy: 0.8719\n",
      "Epoch 10/30\n",
      "43/43 [==============================] - 3s 58ms/step - loss: 0.7699 - accuracy: 0.9359\n",
      "Epoch 11/30\n",
      "43/43 [==============================] - 3s 58ms/step - loss: 0.5834 - accuracy: 0.9492\n",
      "Epoch 12/30\n",
      "43/43 [==============================] - 3s 60ms/step - loss: 0.6833 - accuracy: 0.9539\n",
      "Epoch 13/30\n",
      "43/43 [==============================] - 3s 60ms/step - loss: 0.6358 - accuracy: 0.9461\n",
      "Epoch 14/30\n",
      "43/43 [==============================] - 3s 59ms/step - loss: 0.6939 - accuracy: 0.9563\n",
      "Epoch 15/30\n",
      "43/43 [==============================] - 3s 59ms/step - loss: 0.7077 - accuracy: 0.9492\n",
      "Epoch 16/30\n",
      "43/43 [==============================] - 3s 60ms/step - loss: 0.6850 - accuracy: 0.9492\n",
      "Epoch 17/30\n",
      "43/43 [==============================] - 3s 59ms/step - loss: 0.7863 - accuracy: 0.9516\n",
      "Epoch 18/30\n",
      "43/43 [==============================] - 3s 59ms/step - loss: 0.6540 - accuracy: 0.9656\n",
      "Epoch 19/30\n",
      "43/43 [==============================] - 3s 59ms/step - loss: 0.7146 - accuracy: 0.9664\n",
      "Epoch 20/30\n",
      "43/43 [==============================] - 3s 59ms/step - loss: 0.6905 - accuracy: 0.9602\n",
      "Epoch 21/30\n",
      "43/43 [==============================] - 3s 59ms/step - loss: 0.7213 - accuracy: 0.9422\n",
      "Epoch 22/30\n",
      "43/43 [==============================] - 3s 59ms/step - loss: 0.7319 - accuracy: 0.9641\n",
      "Epoch 23/30\n",
      "43/43 [==============================] - 3s 59ms/step - loss: 0.6024 - accuracy: 0.9828\n",
      "Epoch 24/30\n",
      "43/43 [==============================] - 3s 59ms/step - loss: 0.6108 - accuracy: 0.9547\n",
      "Epoch 25/30\n",
      "43/43 [==============================] - 3s 59ms/step - loss: 0.7711 - accuracy: 0.9523\n",
      "Epoch 26/30\n",
      "43/43 [==============================] - 3s 59ms/step - loss: 0.6189 - accuracy: 0.9805\n",
      "Epoch 27/30\n",
      "43/43 [==============================] - 3s 58ms/step - loss: 0.5648 - accuracy: 0.9656\n",
      "Epoch 28/30\n",
      "43/43 [==============================] - 3s 59ms/step - loss: 0.5728 - accuracy: 0.9750\n",
      "Epoch 29/30\n",
      "43/43 [==============================] - 3s 58ms/step - loss: 0.7259 - accuracy: 0.9445\n",
      "Epoch 30/30\n",
      "43/43 [==============================] - 2s 58ms/step - loss: 0.6254 - accuracy: 0.9734\n"
     ]
    }
   ],
   "source": [
    "train_data = train_data.reshape(train_data.shape[0], 784, 500, 1)\n",
    "history = model.fit(\n",
    "    train_data, \n",
    "    train_label, \n",
    "    epochs = 30,\n",
    "    batch_size = 30,\n",
    ") "
   ]
  },
  {
   "cell_type": "code",
   "execution_count": 4,
   "metadata": {},
   "outputs": [
    {
     "name": "stderr",
     "output_type": "stream",
     "text": [
      "WARNING:absl:Found untraced functions such as _jit_compiled_convolution_op while saving (showing 1 of 1). These functions will not be directly callable after loading.\n"
     ]
    },
    {
     "name": "stdout",
     "output_type": "stream",
     "text": [
      "INFO:tensorflow:Assets written to: saved_model_cnn\\assets\n"
     ]
    },
    {
     "name": "stderr",
     "output_type": "stream",
     "text": [
      "INFO:tensorflow:Assets written to: saved_model_cnn\\assets\n"
     ]
    },
    {
     "name": "stdout",
     "output_type": "stream",
     "text": [
      "Model: \"sequential\"\n",
      "_________________________________________________________________\n",
      " Layer (type)                Output Shape              Param #   \n",
      "=================================================================\n",
      " conv2d (Conv2D)             (None, 782, 498, 16)      160       \n",
      "                                                                 \n",
      " max_pooling2d (MaxPooling2D  (None, 391, 249, 16)     0         \n",
      " )                                                               \n",
      "                                                                 \n",
      " flatten (Flatten)           (None, 1557744)           0         \n",
      "                                                                 \n",
      " dropout (Dropout)           (None, 1557744)           0         \n",
      "                                                                 \n",
      " dense (Dense)               (None, 16)                24923920  \n",
      "                                                                 \n",
      " dropout_1 (Dropout)         (None, 16)                0         \n",
      "                                                                 \n",
      " dense_1 (Dense)             (None, 2)                 34        \n",
      "                                                                 \n",
      "=================================================================\n",
      "Total params: 24,924,114\n",
      "Trainable params: 24,924,114\n",
      "Non-trainable params: 0\n",
      "_________________________________________________________________\n"
     ]
    }
   ],
   "source": [
    "model.save('saved_model_cnn')\n",
    "model.summary()"
   ]
  },
  {
   "cell_type": "code",
   "execution_count": 5,
   "metadata": {},
   "outputs": [
    {
     "data": {
      "image/png": "[encoded data removed]",
      "text/plain": [
       "<Figure size 640x480 with 1 Axes>"
      ]
     },
     "metadata": {},
     "output_type": "display_data"
    },
    {
     "name": "stdout",
     "output_type": "stream",
     "text": [
      "22\n"
     ]
    }
   ],
   "source": [
    "history_dict = history.history\n",
    "history_dict.keys() # the data gathered during training\n",
    "import matplotlib.pyplot as plt\n",
    "def plot_acc():\n",
    "    plt.clf()\n",
    "    acc = history_dict['accuracy']\n",
    "    epochs = range(1, len(acc) + 1)\n",
    "    plt.plot(epochs, acc, 'bo', label = 'Training acc')\n",
    "    plt.title('Training acc')\n",
    "    plt.xlabel('Epochs')\n",
    "    plt.ylabel('Accuracy')\n",
    "    plt.legend()\n",
    "    plt.show()\n",
    "\n",
    "plot_acc()\n",
    "early_stopping_epoch = np.argmax(history.history[\"accuracy\"])\n",
    "print(early_stopping_epoch)"
   ]
  },
  {
   "cell_type": "code",
   "execution_count": 6,
   "metadata": {},
   "outputs": [],
   "source": [
    "tf.keras.backend.clear_session()\n",
    "new_model = tf.keras.models.load_model('saved_model_cnn')"
   ]
  },
  {
   "cell_type": "code",
   "execution_count": 7,
   "metadata": {},
   "outputs": [
    {
     "name": "stdout",
     "output_type": "stream",
     "text": [
      "Epoch 1/22\n",
      "43/43 [==============================] - 4s 69ms/step - loss: 0.4828 - accuracy: 0.9641\n",
      "Epoch 2/22\n",
      "43/43 [==============================] - 3s 70ms/step - loss: 0.5098 - accuracy: 0.9594\n",
      "Epoch 3/22\n",
      "43/43 [==============================] - 3s 67ms/step - loss: 0.5733 - accuracy: 0.9641\n",
      "Epoch 4/22\n",
      "43/43 [==============================] - 3s 61ms/step - loss: 0.5849 - accuracy: 0.9656\n",
      "Epoch 5/22\n",
      "43/43 [==============================] - 3s 61ms/step - loss: 0.4795 - accuracy: 0.9781\n",
      "Epoch 6/22\n",
      "43/43 [==============================] - 3s 61ms/step - loss: 0.5711 - accuracy: 0.9695\n",
      "Epoch 7/22\n",
      "43/43 [==============================] - 3s 61ms/step - loss: 0.5704 - accuracy: 0.9656\n",
      "Epoch 8/22\n",
      "43/43 [==============================] - 3s 60ms/step - loss: 0.5835 - accuracy: 0.9602\n",
      "Epoch 9/22\n",
      "43/43 [==============================] - 3s 61ms/step - loss: 0.5024 - accuracy: 0.9797\n",
      "Epoch 10/22\n",
      "43/43 [==============================] - 3s 60ms/step - loss: 0.5393 - accuracy: 0.9781\n",
      "Epoch 11/22\n",
      "43/43 [==============================] - 3s 60ms/step - loss: 0.5406 - accuracy: 0.9836\n",
      "Epoch 12/22\n",
      "43/43 [==============================] - 3s 61ms/step - loss: 0.5036 - accuracy: 0.9703\n",
      "Epoch 13/22\n",
      "43/43 [==============================] - 3s 62ms/step - loss: 0.5181 - accuracy: 0.9758\n",
      "Epoch 14/22\n",
      "43/43 [==============================] - 3s 62ms/step - loss: 0.5329 - accuracy: 0.9711\n",
      "Epoch 15/22\n",
      "43/43 [==============================] - 3s 60ms/step - loss: 0.5419 - accuracy: 0.9727\n",
      "Epoch 16/22\n",
      "43/43 [==============================] - 3s 62ms/step - loss: 0.5167 - accuracy: 0.9820\n",
      "Epoch 17/22\n",
      "43/43 [==============================] - 3s 64ms/step - loss: 0.5719 - accuracy: 0.9664\n",
      "Epoch 18/22\n",
      "43/43 [==============================] - 3s 62ms/step - loss: 0.5241 - accuracy: 0.9805\n",
      "Epoch 19/22\n",
      "43/43 [==============================] - 3s 60ms/step - loss: 0.6418 - accuracy: 0.9680\n",
      "Epoch 20/22\n",
      "43/43 [==============================] - 3s 62ms/step - loss: 0.6037 - accuracy: 0.9828\n",
      "Epoch 21/22\n",
      "43/43 [==============================] - 3s 63ms/step - loss: 0.5160 - accuracy: 0.9852\n",
      "Epoch 22/22\n",
      "43/43 [==============================] - 3s 66ms/step - loss: 0.6082 - accuracy: 0.9758\n"
     ]
    },
    {
     "name": "stderr",
     "output_type": "stream",
     "text": [
      "WARNING:absl:Found untraced functions such as _jit_compiled_convolution_op while saving (showing 1 of 1). These functions will not be directly callable after loading.\n"
     ]
    },
    {
     "name": "stdout",
     "output_type": "stream",
     "text": [
      "INFO:tensorflow:Assets written to: saved_model_cnn\\assets\n"
     ]
    },
    {
     "name": "stderr",
     "output_type": "stream",
     "text": [
      "INFO:tensorflow:Assets written to: saved_model_cnn\\assets\n"
     ]
    }
   ],
   "source": [
    "new_model.fit(\n",
    "    train_data,                     # full training set\n",
    "    train_label,\n",
    "    epochs=early_stopping_epoch, # the epoch where overfitting starts\n",
    "    batch_size=30\n",
    ")\n",
    "new_model.save('saved_model_cnn')"
   ]
  },
  {
   "cell_type": "code",
   "execution_count": 10,
   "metadata": {},
   "outputs": [
    {
     "name": "stdout",
     "output_type": "stream",
     "text": [
      "10/10 - 7s - loss: 1.2871 - accuracy: 0.6687 - 7s/epoch - 663ms/step\n",
      "Test score: 1.2870519161224365\n",
      "Test accuracy: 0.668749988079071\n"
     ]
    }
   ],
   "source": [
    "final_model = tf.keras.models.load_model('saved_model_cnn')\n",
    "score, acc = final_model.evaluate(test_data, test_label, verbose=2)\n",
    "print('Test score:', score)\n",
    "print('Test accuracy:', acc)"
   ]
  }
 ],
 "metadata": {
  "kernelspec": {
   "display_name": "Python 3.9.15 ('tf')",
   "language": "python",
   "name": "python3"
  },
  "language_info": {
   "codemirror_mode": {
    "name": "ipython",
    "version": 3
   },
   "file_extension": ".py",
   "mimetype": "text/x-python",
   "name": "python",
   "nbconvert_exporter": "python",
   "pygments_lexer": "ipython3",
   "version": "3.9.15"
  },
  "orig_nbformat": 4,
  "vscode": {
   "interpreter": {
    "hash": "9396d7d05074184ad1bdffa89c9baf4b70aedb99cfe5c454adbba107973e00ee"
   }
  }
 },
 "nbformat": 4,
 "nbformat_minor": 2
}
