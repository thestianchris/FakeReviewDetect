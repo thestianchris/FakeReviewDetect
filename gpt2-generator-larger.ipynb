{
 "cells": [
  {
   "cell_type": "code",
   "execution_count": 1,
   "metadata": {},
   "outputs": [
    {
     "name": "stderr",
     "output_type": "stream",
     "text": [
      "c:\\Users\\Christian Gauthier\\miniconda3\\envs\\tf\\lib\\site-packages\\tqdm\\auto.py:22: TqdmWarning: IProgress not found. Please update jupyter and ipywidgets. See https://ipywidgets.readthedocs.io/en/stable/user_install.html\n",
      "  from .autonotebook import tqdm as notebook_tqdm\n",
      "All model checkpoint layers were used when initializing TFGPT2LMHeadModel.\n",
      "\n",
      "All the layers of TFGPT2LMHeadModel were initialized from the model checkpoint at gpt2.\n",
      "If your task is similar to the task the model of the checkpoint was trained on, you can already use TFGPT2LMHeadModel for predictions without further training.\n"
     ]
    }
   ],
   "source": [
    "#Imports\n",
    "import tensorflow as tf\n",
    "from transformers import TFGPT2LMHeadModel, GPT2Tokenizer\n",
    "from sklearn.utils import shuffle\n",
    "import pandas as pd\n",
    "import numpy as np\n",
    "import matplotlib.pyplot as plt\n",
    "#Encoder text to tensor\n",
    "tokenizer = GPT2Tokenizer.from_pretrained('gpt2') \n",
    "model = TFGPT2LMHeadModel.from_pretrained('gpt2', pad_token_id=tokenizer.eos_token_id) "
   ]
  },
  {
   "cell_type": "code",
   "execution_count": 43,
   "metadata": {},
   "outputs": [
    {
     "name": "stderr",
     "output_type": "stream",
     "text": [
      "C:\\Users\\Christian Gauthier\\AppData\\Local\\Temp\\ipykernel_29240\\3859494564.py:8: FutureWarning: The default value of regex will change from True to False in a future version.\n",
      "  reviews['text'].str.replace('[^\\w\\s]','') #Remove punctuation\n"
     ]
    },
    {
     "name": "stdout",
     "output_type": "stream",
     "text": [
      "0         if you decide to eat here, just be aware it is...\n",
      "1         i've taken a lot of spin classes over the year...\n",
      "2         family diner. had the buffet. eclectic assortm...\n",
      "3         wow!  yummy, different,  delicious.   our favo...\n",
      "4         cute interior and owner (?) gave us tour of up...\n",
      "                                ...                        \n",
      "499995    we won the playoff game last night and is sche...\n",
      "499996    we have been a resident almost 4 years at manz...\n",
      "499997    this place is hyped as one of the best places ...\n",
      "499998    saw the reviews so thought i'd try this place....\n",
      "499999    yummy!  i ordered uber eats and wasn't sure ho...\n",
      "Name: text, Length: 500000, dtype: object\n"
     ]
    }
   ],
   "source": [
    "#Get Yelp dataset and normalize \n",
    "reviews = pd.read_csv('bigreviews.csv')\n",
    "\n",
    "#Normalization\n",
    "for column in reviews:\n",
    "    reviews['text'] = reviews['text'].str.lower()   #Covert the text to lower case\n",
    "    reviews['text'].str.replace('[^\\w\\s]','') #Remove punctuation\n",
    "    reviews['text'].str.strip() #Remove whitespace\n",
    "    reviews['text'].str.replace(\"\\n\", \" \") #Remove escape characters\n",
    "reviews = reviews['text']\n",
    "\n",
    "print(reviews)"
   ]
  },
  {
   "cell_type": "code",
   "execution_count": 3,
   "metadata": {},
   "outputs": [],
   "source": [
    "#Segment the first section for model\n",
    "df1 = reviews[:35000]"
   ]
  },
  {
   "attachments": {},
   "cell_type": "markdown",
   "metadata": {},
   "source": [
    "**Method**\n",
    "\n",
    "From attempts to run the model as a whole, have had issues trying to run the large model and save weights due to the time to run epochs along with saving the dataframe, in attempt will train large model in chunks of 35k at a time and run the model using saved weights"
   ]
  },
  {
   "cell_type": "code",
   "execution_count": 3,
   "metadata": {},
   "outputs": [],
   "source": [
    "#turn the entire reviews set into a long string to be segmented in next sequence\n",
    "def stringify_tokenize(dataframe):\n",
    "  single_string = ''\n",
    "  for row in dataframe:\n",
    "    x = row\n",
    "    single_string += x \n",
    "  string_tokenized = tokenizer.encode(single_string)\n",
    "  return string_tokenized"
   ]
  },
  {
   "cell_type": "code",
   "execution_count": null,
   "metadata": {},
   "outputs": [],
   "source": [
    "def datasetCreate(string_tokenized):\n",
    "  #Define variables to store the data\n",
    "  revs = []\n",
    "  inputs, labels = [], [] \n",
    "  block_size = 100\n",
    "  BATCH_SIZE = 12 \n",
    "  BUFFER_SIZE = 1000\n",
    "  #Split the string_tokenized list into blocks of size block_size\n",
    "  #store each block in the examples list\n",
    "  for i in range(0, len(string_tokenized) - block_size + 1, block_size):\n",
    "    revs.append(string_tokenized[i:i + block_size])\n",
    "\n",
    "\n",
    "  #For each review in the ist, store the input as the example without the last part\n",
    "  for rev in revs:\n",
    "    inputs.append(rev[:-1])\n",
    "    labels.append(rev[1:])\n",
    "\n",
    "  #Create a dataset from the inputs and labels \n",
    "  dataset = tf.data.Dataset.from_tensor_slices((inputs, labels))\n",
    "\n",
    "  #Shuffle the dataset and batch\n",
    "  dataset = dataset.shuffle(BUFFER_SIZE).batch(BATCH_SIZE, drop_remainder=True)\n",
    "  return dataset"
   ]
  },
  {
   "cell_type": "code",
   "execution_count": 25,
   "metadata": {},
   "outputs": [],
   "source": [
    "checkpoint_filepath = 'tmp3/weights.{epoch:02d}.h5'\n",
    "model_checkpoint_callback = tf.keras.callbacks.ModelCheckpoint(\n",
    "    filepath=checkpoint_filepath,\n",
    "    save_weights_only=True,\n",
    "    monitor='accuracy',\n",
    "    mode='auto',\n",
    "    save_best_only=True)"
   ]
  },
  {
   "cell_type": "code",
   "execution_count": 2,
   "metadata": {},
   "outputs": [],
   "source": [
    "#Compiler\n",
    "def modelcompile(model):    \n",
    "    loss = tf.keras.losses.SparseCategoricalCrossentropy(from_logits=True)\n",
    "    metric = tf.keras.metrics.SparseCategoricalAccuracy('accuracy')\n",
    "    model.compile(loss=[loss],optimizer='adam',metrics=[metric])"
   ]
  },
  {
   "cell_type": "code",
   "execution_count": 7,
   "metadata": {},
   "outputs": [],
   "source": [
    "#plot of the accuracy\n",
    "def plot_acc():\n",
    "    history_dict = history.history\n",
    "    history_dict.keys() # the data gathered during training\n",
    "    plt.clf()\n",
    "    acc = history_dict['accuracy']\n",
    "    epochs = range(1, len(acc) + 1)\n",
    "    solid_blue_line = 'b'\n",
    "    blue_dots = 'bo'\n",
    "\n",
    "    plt.plot(epochs, acc, solid_blue_line, label = 'Training Accuracy')\n",
    "    plt.title('Training Accuracy')\n",
    "    plt.xlabel('Epochs')\n",
    "    plt.ylabel('Accuracy')\n",
    "    plt.legend()\n",
    "    plt.show()\n",
    "\n",
    "#plot of the loss\n",
    "def plot_loss():\n",
    "    history_dict = history.history\n",
    "    history_dict.keys()\n",
    "    loss = history_dict['loss']\n",
    "    epochs = range(1, len(loss) + 1)\n",
    "    solid_blue_line = 'b'\n",
    "    blue_dots = 'bo'\n",
    "\n",
    "    plt.plot(epochs, loss, solid_blue_line, label = 'Training loss')\n",
    "    plt.title('Training Loss')\n",
    "    plt.xlabel('Epochs')\n",
    "    plt.ylabel('Loss')\n",
    "    plt.legend()\n",
    "    plt.show()\n"
   ]
  },
  {
   "cell_type": "code",
   "execution_count": null,
   "metadata": {},
   "outputs": [
    {
     "name": "stdout",
     "output_type": "stream",
     "text": [
      "Epoch 1/15\n",
      "3788/3788 [==============================] - 760s 198ms/step - loss: 3.8791 - accuracy: 0.2836\n",
      "Epoch 2/15\n",
      "3788/3788 [==============================] - 735s 194ms/step - loss: 3.5623 - accuracy: 0.3096\n",
      "Epoch 3/15\n",
      "3788/3788 [==============================] - 722s 191ms/step - loss: 3.3303 - accuracy: 0.3304\n",
      "Epoch 4/15\n",
      "3788/3788 [==============================] - 709s 187ms/step - loss: 3.1144 - accuracy: 0.3521\n",
      "Epoch 5/15\n",
      "3788/3788 [==============================] - 693s 183ms/step - loss: 2.9103 - accuracy: 0.3755\n",
      "Epoch 6/15\n",
      "3788/3788 [==============================] - 693s 183ms/step - loss: 2.7203 - accuracy: 0.3993\n",
      "Epoch 7/15\n",
      "3788/3788 [==============================] - 693s 183ms/step - loss: 2.5455 - accuracy: 0.4232\n",
      "Epoch 8/15\n",
      "3788/3788 [==============================] - 695s 183ms/step - loss: 2.3855 - accuracy: 0.4463\n",
      "Epoch 9/15\n",
      "3788/3788 [==============================] - 693s 183ms/step - loss: 2.2386 - accuracy: 0.4690\n",
      "Epoch 10/15\n",
      "3788/3788 [==============================] - 695s 183ms/step - loss: 2.1031 - accuracy: 0.4909\n",
      "Epoch 11/15\n",
      "3788/3788 [==============================] - 693s 183ms/step - loss: 1.9793 - accuracy: 0.5115\n",
      "Epoch 12/15\n",
      "3788/3788 [==============================] - 694s 183ms/step - loss: 1.8660 - accuracy: 0.5313\n",
      "Epoch 13/15\n",
      "3788/3788 [==============================] - 694s 183ms/step - loss: 1.7596 - accuracy: 0.5508\n",
      "Epoch 14/15\n",
      "3788/3788 [==============================] - 695s 183ms/step - loss: 1.6637 - accuracy: 0.5685\n",
      "Epoch 15/15\n",
      "3788/3788 [==============================] - 694s 183ms/step - loss: 1.5728 - accuracy: 0.5867\n"
     ]
    }
   ],
   "source": [
    "history = model.fit(dataset,epochs=15,callbacks=[model_checkpoint_callback])"
   ]
  },
  {
   "attachments": {},
   "cell_type": "markdown",
   "metadata": {},
   "source": [
    "**Check Results**"
   ]
  },
  {
   "cell_type": "code",
   "execution_count": null,
   "metadata": {},
   "outputs": [],
   "source": [
    "plot_acc()\n",
    "plot_loss()\n",
    "early_stopping_epoch = np.argmax(history.history[\"accuracy\"])+1\n",
    "print(early_stopping_epoch)"
   ]
  },
  {
   "cell_type": "code",
   "execution_count": 13,
   "metadata": {},
   "outputs": [
    {
     "name": "stdout",
     "output_type": "stream",
     "text": [
      "Epoch 1/15\n",
      "3788/3788 [==============================] - 873s 230ms/step - loss: 1.4904 - accuracy: 0.6032\n",
      "Epoch 2/15\n",
      "3788/3788 [==============================] - 1030s 272ms/step - loss: 1.4131 - accuracy: 0.6187\n",
      "Epoch 3/15\n",
      "3788/3788 [==============================] - 719s 190ms/step - loss: 1.3421 - accuracy: 0.6337\n",
      "Epoch 4/15\n",
      "3788/3788 [==============================] - 698s 184ms/step - loss: 1.2749 - accuracy: 0.6479\n",
      "Epoch 5/15\n",
      "3788/3788 [==============================] - 687s 181ms/step - loss: 1.2142 - accuracy: 0.6618\n",
      "Epoch 6/15\n",
      "3788/3788 [==============================] - 680s 179ms/step - loss: 1.1568 - accuracy: 0.6745\n",
      "Epoch 7/15\n",
      "3788/3788 [==============================] - 699s 184ms/step - loss: 1.1032 - accuracy: 0.6869\n",
      "Epoch 8/15\n",
      "3788/3788 [==============================] - 687s 181ms/step - loss: 1.0537 - accuracy: 0.6986\n",
      "Epoch 9/15\n",
      "3788/3788 [==============================] - 708s 187ms/step - loss: 1.0079 - accuracy: 0.7094\n",
      "Epoch 10/15\n",
      "3788/3788 [==============================] - 724s 191ms/step - loss: 0.9642 - accuracy: 0.7203\n",
      "Epoch 11/15\n",
      "3788/3788 [==============================] - 697s 184ms/step - loss: 0.9243 - accuracy: 0.7301\n",
      "Epoch 12/15\n",
      "3788/3788 [==============================] - 696s 184ms/step - loss: 0.8866 - accuracy: 0.7398\n",
      "Epoch 13/15\n",
      "3788/3788 [==============================] - 695s 183ms/step - loss: 0.8518 - accuracy: 0.7485\n",
      "Epoch 14/15\n",
      "3788/3788 [==============================] - 695s 184ms/step - loss: 0.8208 - accuracy: 0.7567\n",
      "Epoch 15/15\n",
      "3788/3788 [==============================] - 696s 184ms/step - loss: 0.7903 - accuracy: 0.7648\n"
     ]
    }
   ],
   "source": [
    "history = model.fit(dataset,epochs=15,callbacks=[model_checkpoint_callback])"
   ]
  },
  {
   "cell_type": "code",
   "execution_count": 15,
   "metadata": {},
   "outputs": [
    {
     "data": {
      "image/png": "[encoded data removed]",
      "text/plain": [
       "<Figure size 640x480 with 1 Axes>"
      ]
     },
     "metadata": {},
     "output_type": "display_data"
    },
    {
     "data": {
      "image/png": "[encoded data removed]",
      "text/plain": [
       "<Figure size 640x480 with 1 Axes>"
      ]
     },
     "metadata": {},
     "output_type": "display_data"
    },
    {
     "name": "stdout",
     "output_type": "stream",
     "text": [
      "15\n"
     ]
    }
   ],
   "source": [
    "plot_acc()\n",
    "plot_loss()\n",
    "early_stopping_epoch = np.argmax(history.history[\"accuracy\"])+1\n",
    "print(early_stopping_epoch)"
   ]
  },
  {
   "attachments": {},
   "cell_type": "markdown",
   "metadata": {},
   "source": [
    "**Reload model with saved weights**\n",
    "\n",
    "*Train on next segment of dataset*"
   ]
  },
  {
   "cell_type": "code",
   "execution_count": 14,
   "metadata": {},
   "outputs": [
    {
     "name": "stdout",
     "output_type": "stream",
     "text": [
      "i found the staff to be very friendly and helpful.  \n",
      "\n",
      "i was in and out in less than an hour. they were able to get me in right away. i will definitely use them again.i have been here twice and both times were excellent. the food is delicious and the service is top-notch. if you're looking for a quick bite to eat, this is the place for you.this place is awesome! i came here with a group of friends and we nothing nothing like like nothing extra like such like extra nothing spot like, like spot nothing special nothing friendly nothing such nothing, extra extra spot friendly like other nothing while like friendly, nothing. nothing t like. like special like t nothing house extra such such\n"
     ]
    }
   ],
   "source": [
    "text = \"i found\"\n",
    "# encoding the input text\n",
    "input_ids = tokenizer.encode(text, return_tensors='tf')\n",
    "# getting out output\n",
    "output = model.generate(\n",
    "  input_ids,\n",
    "  max_length = 150,\n",
    "  num_beams = 5,\n",
    "  temperature = 0.75,\n",
    "  no_repeat_ngram_size=2,\n",
    "  num_return_sequences=5\n",
    ")\n",
    "\n",
    "print(tokenizer.decode(output[0]))"
   ]
  },
  {
   "cell_type": "code",
   "execution_count": 4,
   "metadata": {},
   "outputs": [],
   "source": [
    "#Segment the second section for model\n",
    "df2 = reviews[35000:70000]"
   ]
  },
  {
   "cell_type": "code",
   "execution_count": 5,
   "metadata": {},
   "outputs": [
    {
     "name": "stderr",
     "output_type": "stream",
     "text": [
      "Token indices sequence length is longer than the specified maximum sequence length for this model (4492540 > 1024). Running this sequence through the model will result in indexing errors\n"
     ]
    }
   ],
   "source": [
    "single_string = ''\n",
    "for row in df2:\n",
    "  x = row\n",
    "  single_string += x \n",
    "string_tokenized = tokenizer.encode(single_string)"
   ]
  },
  {
   "cell_type": "code",
   "execution_count": 12,
   "metadata": {},
   "outputs": [],
   "source": [
    "dataset = datasetCreate(string_tokenized)"
   ]
  },
  {
   "cell_type": "code",
   "execution_count": 15,
   "metadata": {},
   "outputs": [],
   "source": [
    "# defining optimizer\n",
    "opt = tf.keras.optimizers.Adam(learning_rate=3e-5)#not in use \n",
    "# definining loss function\n",
    "loss = tf.keras.losses.SparseCategoricalCrossentropy(from_logits=True)\n",
    "# defining our metric which we want to observe\n",
    "metric = tf.keras.metrics.SparseCategoricalAccuracy('accuracy')\n",
    "# compiling the model\n",
    "model.compile(loss=[loss],optimizer='adam',metrics=[metric])"
   ]
  },
  {
   "cell_type": "code",
   "execution_count": 14,
   "metadata": {},
   "outputs": [
    {
     "name": "stdout",
     "output_type": "stream",
     "text": [
      "Model: \"tfgpt2lm_head_model\"\n",
      "_________________________________________________________________\n",
      " Layer (type)                Output Shape              Param #   \n",
      "=================================================================\n",
      " transformer (TFGPT2MainLaye  multiple                 124439808 \n",
      " r)                                                              \n",
      "                                                                 \n",
      "=================================================================\n",
      "Total params: 124,439,808\n",
      "Trainable params: 124,439,808\n",
      "Non-trainable params: 0\n",
      "_________________________________________________________________\n"
     ]
    }
   ],
   "source": [
    "model.load_weights('tmp\\weights.15.h5')\n",
    "model.summary()"
   ]
  },
  {
   "cell_type": "code",
   "execution_count": 15,
   "metadata": {},
   "outputs": [
    {
     "name": "stdout",
     "output_type": "stream",
     "text": [
      "Epoch 1/15\n",
      "3764/3764 [==============================] - 719s 188ms/step - loss: 3.7258 - accuracy: 0.3080\n",
      "Epoch 2/15\n",
      "3764/3764 [==============================] - 675s 179ms/step - loss: 3.3376 - accuracy: 0.3418\n",
      "Epoch 3/15\n",
      "3764/3764 [==============================] - 673s 179ms/step - loss: 3.0312 - accuracy: 0.3741\n",
      "Epoch 4/15\n",
      "3764/3764 [==============================] - 704s 187ms/step - loss: 2.7532 - accuracy: 0.4067\n",
      "Epoch 5/15\n",
      "3764/3764 [==============================] - 705s 187ms/step - loss: 2.5063 - accuracy: 0.4393\n",
      "Epoch 6/15\n",
      "3764/3764 [==============================] - 704s 187ms/step - loss: 2.2924 - accuracy: 0.4696\n",
      "Epoch 7/15\n",
      "3764/3764 [==============================] - 688s 183ms/step - loss: 2.1104 - accuracy: 0.4977\n",
      "Epoch 8/15\n",
      "3764/3764 [==============================] - 687s 183ms/step - loss: 1.9526 - accuracy: 0.5232\n",
      "Epoch 9/15\n",
      "3764/3764 [==============================] - 698s 185ms/step - loss: 1.8165 - accuracy: 0.5464\n",
      "Epoch 10/15\n",
      "3764/3764 [==============================] - 682s 181ms/step - loss: 1.6960 - accuracy: 0.5678\n",
      "Epoch 11/15\n",
      "3764/3764 [==============================] - 694s 184ms/step - loss: 1.5895 - accuracy: 0.5875\n",
      "Epoch 12/15\n",
      "3764/3764 [==============================] - 675s 179ms/step - loss: 1.4944 - accuracy: 0.6057\n",
      "Epoch 13/15\n",
      "3764/3764 [==============================] - 678s 180ms/step - loss: 1.4091 - accuracy: 0.6227\n",
      "Epoch 14/15\n",
      "3764/3764 [==============================] - 720s 191ms/step - loss: 1.3323 - accuracy: 0.6384\n",
      "Epoch 15/15\n",
      "3764/3764 [==============================] - 724s 192ms/step - loss: 1.2619 - accuracy: 0.6534\n"
     ]
    }
   ],
   "source": [
    "history = model.fit(dataset,epochs=15,callbacks=[model_checkpoint_callback])"
   ]
  },
  {
   "cell_type": "code",
   "execution_count": 18,
   "metadata": {},
   "outputs": [
    {
     "data": {
      "image/png": "[encoded data removed]",
      "text/plain": [
       "<Figure size 640x480 with 1 Axes>"
      ]
     },
     "metadata": {},
     "output_type": "display_data"
    },
    {
     "data": {
      "image/png": "[encoded data removed]",
      "text/plain": [
       "<Figure size 640x480 with 1 Axes>"
      ]
     },
     "metadata": {},
     "output_type": "display_data"
    },
    {
     "name": "stdout",
     "output_type": "stream",
     "text": [
      "15\n"
     ]
    }
   ],
   "source": [
    "plot_acc()\n",
    "plot_loss()\n",
    "early_stopping_epoch = np.argmax(history.history[\"accuracy\"])+1\n",
    "print(early_stopping_epoch)"
   ]
  },
  {
   "cell_type": "code",
   "execution_count": 19,
   "metadata": {},
   "outputs": [
    {
     "name": "stdout",
     "output_type": "stream",
     "text": [
      "Epoch 1/15\n",
      "3764/3764 [==============================] - 688s 183ms/step - loss: 1.1983 - accuracy: 0.6672\n",
      "Epoch 2/15\n",
      "3764/3764 [==============================] - 696s 185ms/step - loss: 1.1406 - accuracy: 0.6802\n",
      "Epoch 3/15\n",
      "3764/3764 [==============================] - 758s 201ms/step - loss: 1.0864 - accuracy: 0.6926\n",
      "Epoch 4/15\n",
      "3764/3764 [==============================] - 788s 209ms/step - loss: 1.0382 - accuracy: 0.7035\n",
      "Epoch 5/15\n",
      "3764/3764 [==============================] - 723s 192ms/step - loss: 0.9922 - accuracy: 0.7143\n",
      "Epoch 6/15\n",
      "3764/3764 [==============================] - 677s 180ms/step - loss: 0.9511 - accuracy: 0.7245\n",
      "Epoch 7/15\n",
      "3764/3764 [==============================] - 674s 179ms/step - loss: 0.9123 - accuracy: 0.7338\n",
      "Epoch 8/15\n",
      "3764/3764 [==============================] - 675s 179ms/step - loss: 0.8770 - accuracy: 0.7428\n",
      "Epoch 9/15\n",
      "3764/3764 [==============================] - 674s 179ms/step - loss: 0.8440 - accuracy: 0.7514\n",
      "Epoch 10/15\n",
      "3764/3764 [==============================] - 674s 179ms/step - loss: 0.8128 - accuracy: 0.7593\n",
      "Epoch 11/15\n",
      "3764/3764 [==============================] - 674s 179ms/step - loss: 0.7849 - accuracy: 0.7667\n",
      "Epoch 12/15\n",
      "3764/3764 [==============================] - 674s 179ms/step - loss: 0.7587 - accuracy: 0.7736\n",
      "Epoch 13/15\n",
      "3764/3764 [==============================] - 674s 179ms/step - loss: 0.7343 - accuracy: 0.7801\n",
      "Epoch 14/15\n",
      "3764/3764 [==============================] - 674s 179ms/step - loss: 0.7114 - accuracy: 0.7863\n",
      "Epoch 15/15\n",
      "3764/3764 [==============================] - 673s 179ms/step - loss: 0.6898 - accuracy: 0.7925\n"
     ]
    }
   ],
   "source": [
    "history = model.fit(dataset,epochs=15,callbacks=[model_checkpoint_callback])"
   ]
  },
  {
   "cell_type": "code",
   "execution_count": 20,
   "metadata": {},
   "outputs": [
    {
     "data": {
      "image/png": "[encoded data removed]",
      "text/plain": [
       "<Figure size 640x480 with 1 Axes>"
      ]
     },
     "metadata": {},
     "output_type": "display_data"
    },
    {
     "data": {
      "image/png": "[encoded data removed]",
      "text/plain": [
       "<Figure size 640x480 with 1 Axes>"
      ]
     },
     "metadata": {},
     "output_type": "display_data"
    },
    {
     "name": "stdout",
     "output_type": "stream",
     "text": [
      "15\n"
     ]
    }
   ],
   "source": [
    "plot_acc()\n",
    "plot_loss()\n",
    "early_stopping_epoch = np.argmax(history.history[\"accuracy\"])+1\n",
    "print(early_stopping_epoch)"
   ]
  },
  {
   "cell_type": "code",
   "execution_count": 22,
   "metadata": {},
   "outputs": [
    {
     "name": "stdout",
     "output_type": "stream",
     "text": [
      "i found them to be professional, honest and honest. i had a great experience with them due to my insurance company emergency issues. they replaced a set of keys, problem corrected problem, and my wife's car was ready for pick up in 2 hours when promised. great deal! i highly recommend.i have been going to the men's room since it opened and each time i am not disappointed.  the food is a-maze-ing! and the cookies! wow, are this good a party in my new or bad one?  now gone now that i must have gone!\n",
      "\n",
      "twice cream of my favorite restaurant again! :/enjoyedges are we are out of so many great foodies in nashville\n"
     ]
    }
   ],
   "source": [
    "text = \"i found\"\n",
    "# encoding the input text\n",
    "input_ids = tokenizer.encode(text, return_tensors='tf')\n",
    "# getting out output\n",
    "output = model.generate(\n",
    "  input_ids,\n",
    "  max_length = 150,\n",
    "  num_beams = 5,\n",
    "  temperature = 0.85,\n",
    "  no_repeat_ngram_size=2,\n",
    "  num_return_sequences=5\n",
    ")\n",
    "\n",
    "print(tokenizer.decode(output[0]))"
   ]
  },
  {
   "attachments": {},
   "cell_type": "markdown",
   "metadata": {},
   "source": [
    "*Third Segment*"
   ]
  },
  {
   "cell_type": "code",
   "execution_count": 5,
   "metadata": {},
   "outputs": [
    {
     "name": "stderr",
     "output_type": "stream",
     "text": [
      "Token indices sequence length is longer than the specified maximum sequence length for this model (4491353 > 1024). Running this sequence through the model will result in indexing errors\n"
     ]
    }
   ],
   "source": [
    "#Segment the third section for model\n",
    "df3 = reviews[70000:105000]\n",
    "single_string = ''\n",
    "for row in df3:\n",
    "  x = row\n",
    "  single_string += x \n",
    "string_tokenized = tokenizer.encode(single_string)"
   ]
  },
  {
   "cell_type": "code",
   "execution_count": 10,
   "metadata": {},
   "outputs": [],
   "source": [
    "dataset = datasetCreate(string_tokenized)"
   ]
  },
  {
   "cell_type": "code",
   "execution_count": 12,
   "metadata": {},
   "outputs": [],
   "source": [
    "# defining optimizer\n",
    "opt = tf.keras.optimizers.Adam(learning_rate=3e-5)#not in use \n",
    "# definining loss function\n",
    "loss = tf.keras.losses.SparseCategoricalCrossentropy(from_logits=True)\n",
    "# defining our metric which we want to observe\n",
    "metric = tf.keras.metrics.SparseCategoricalAccuracy('accuracy')\n",
    "# compiling the model\n",
    "model.compile(loss=[loss],optimizer='adam',metrics=[metric])\n",
    "model.load_weights('tmp\\weights.15.h5')"
   ]
  },
  {
   "cell_type": "code",
   "execution_count": 14,
   "metadata": {},
   "outputs": [
    {
     "name": "stdout",
     "output_type": "stream",
     "text": [
      "Epoch 1/30\n",
      "3742/3742 [==============================] - 698s 184ms/step - loss: 3.6800 - accuracy: 0.3135\n",
      "Epoch 2/30\n",
      "3742/3742 [==============================] - 662s 177ms/step - loss: 3.3156 - accuracy: 0.3466\n",
      "Epoch 3/30\n",
      "3742/3742 [==============================] - 659s 176ms/step - loss: 3.0318 - accuracy: 0.3770\n",
      "Epoch 4/30\n",
      "3742/3742 [==============================] - 659s 176ms/step - loss: 2.7701 - accuracy: 0.4081\n",
      "Epoch 5/30\n",
      "3742/3742 [==============================] - 751s 201ms/step - loss: 2.5321 - accuracy: 0.4394\n",
      "Epoch 6/30\n",
      "3742/3742 [==============================] - 755s 202ms/step - loss: 2.3200 - accuracy: 0.4693\n",
      "Epoch 7/30\n",
      "3742/3742 [==============================] - 703s 188ms/step - loss: 2.1349 - accuracy: 0.4975\n",
      "Epoch 8/30\n",
      "3742/3742 [==============================] - 664s 177ms/step - loss: 1.9731 - accuracy: 0.5233\n",
      "Epoch 9/30\n",
      "3742/3742 [==============================] - 674s 180ms/step - loss: 1.8325 - accuracy: 0.5468\n",
      "Epoch 10/30\n",
      "3742/3742 [==============================] - 665s 178ms/step - loss: 1.7081 - accuracy: 0.5686\n",
      "Epoch 11/30\n",
      "3742/3742 [==============================] - 661s 177ms/step - loss: 1.5977 - accuracy: 0.5889\n",
      "Epoch 12/30\n",
      "3742/3742 [==============================] - 661s 177ms/step - loss: 1.4998 - accuracy: 0.6072\n",
      "Epoch 13/30\n",
      "3742/3742 [==============================] - 687s 184ms/step - loss: 1.4118 - accuracy: 0.6249\n",
      "Epoch 14/30\n",
      "3742/3742 [==============================] - 682s 182ms/step - loss: 1.3306 - accuracy: 0.6410\n",
      "Epoch 15/30\n",
      "3742/3742 [==============================] - 682s 182ms/step - loss: 1.2590 - accuracy: 0.6560\n",
      "Epoch 16/30\n",
      "3742/3742 [==============================] - 738s 197ms/step - loss: 1.1938 - accuracy: 0.6699\n",
      "Epoch 17/30\n",
      "3742/3742 [==============================] - 758s 203ms/step - loss: 1.1348 - accuracy: 0.6829\n",
      "Epoch 18/30\n",
      "3742/3742 [==============================] - 756s 202ms/step - loss: 1.0802 - accuracy: 0.6950\n",
      "Epoch 19/30\n",
      "3742/3742 [==============================] - 681s 182ms/step - loss: 1.0304 - accuracy: 0.7065\n",
      "Epoch 20/30\n",
      "3742/3742 [==============================] - 660s 176ms/step - loss: 0.9848 - accuracy: 0.7172\n",
      "Epoch 21/30\n",
      "3742/3742 [==============================] - 660s 176ms/step - loss: 0.9427 - accuracy: 0.7274\n",
      "Epoch 22/30\n",
      "3742/3742 [==============================] - 662s 177ms/step - loss: 0.9044 - accuracy: 0.7368\n",
      "Epoch 23/30\n",
      "3742/3742 [==============================] - 661s 176ms/step - loss: 0.8683 - accuracy: 0.7458\n",
      "Epoch 24/30\n",
      "3742/3742 [==============================] - 661s 177ms/step - loss: 0.8355 - accuracy: 0.7539\n",
      "Epoch 25/30\n",
      "3742/3742 [==============================] - 661s 177ms/step - loss: 0.8042 - accuracy: 0.7621\n",
      "Epoch 26/30\n",
      "3742/3742 [==============================] - 661s 177ms/step - loss: 0.7769 - accuracy: 0.7691\n",
      "Epoch 27/30\n",
      "3742/3742 [==============================] - 661s 177ms/step - loss: 0.7490 - accuracy: 0.7767\n",
      "Epoch 28/30\n",
      "3742/3742 [==============================] - 661s 177ms/step - loss: 0.7258 - accuracy: 0.7827\n",
      "Epoch 29/30\n",
      "3742/3742 [==============================] - 661s 177ms/step - loss: 0.7019 - accuracy: 0.7892\n",
      "Epoch 30/30\n",
      "3742/3742 [==============================] - 661s 177ms/step - loss: 0.6813 - accuracy: 0.7948\n"
     ]
    }
   ],
   "source": [
    "history = model.fit(dataset,epochs=30,callbacks=[model_checkpoint_callback])"
   ]
  },
  {
   "cell_type": "code",
   "execution_count": 15,
   "metadata": {},
   "outputs": [
    {
     "data": {
      "image/png": "[encoded data removed]",
      "text/plain": [
       "<Figure size 640x480 with 1 Axes>"
      ]
     },
     "metadata": {},
     "output_type": "display_data"
    },
    {
     "data": {
      "image/png": "[encoded data removed]",
      "text/plain": [
       "<Figure size 640x480 with 1 Axes>"
      ]
     },
     "metadata": {},
     "output_type": "display_data"
    },
    {
     "name": "stdout",
     "output_type": "stream",
     "text": [
      "30\n"
     ]
    }
   ],
   "source": [
    "plot_acc()\n",
    "plot_loss()\n",
    "early_stopping_epoch = np.argmax(history.history[\"accuracy\"])+1\n",
    "print(early_stopping_epoch)"
   ]
  },
  {
   "cell_type": "code",
   "execution_count": 23,
   "metadata": {},
   "outputs": [
    {
     "name": "stdout",
     "output_type": "stream",
     "text": [
      "this place is perfect!  even better migas than i've had in austin.  great rhythm to the place. must be owned by a drummer.\n",
      "\n",
      "worth the wait, if you miss this place there will be trouble, boys.(this review is for the food only, not the music venues)\n",
      "i've only been here once for lunch, but it was pretty crowded when i was there for dinner, the space is smaller than the dining room appears from the outside, and the indoor and i didn't know it looked at all the outdoor seating really liked the lighting was really clean that cause we were dressed up against the back ribs. my eyes, so that was just there were a toned open booths and there wasn't too bad seats a stagecozy inside. outside. service was a lot of the atmosphere, just a crunchy up close to gooey seats at first. inside and just enjoying the cool spot. friendly attentive, it did takeout dining space.\n"
     ]
    }
   ],
   "source": [
    "text = \"this place\"\n",
    "# encoding the input text\n",
    "input_ids = tokenizer.encode(text, return_tensors='tf')\n",
    "# getting out output\n",
    "output = model.generate(\n",
    "  input_ids,\n",
    "  max_length = 200,\n",
    "  num_beams = 5,\n",
    "  temperature = 0.75,\n",
    "  no_repeat_ngram_size=2,\n",
    "  num_return_sequences=5\n",
    ")\n",
    "outputed = tokenizer.decode(output[0])\n",
    "\n",
    "outputed.strip() #Remove whitespace\n",
    "outputed.replace(\"\\n\", \" \") #Remove escape characters\n",
    "print(outputed)"
   ]
  },
  {
   "attachments": {},
   "cell_type": "markdown",
   "metadata": {},
   "source": [
    "*Fourth Segment*"
   ]
  },
  {
   "cell_type": "code",
   "execution_count": 21,
   "metadata": {},
   "outputs": [],
   "source": [
    "df4 = reviews[105000:140000]"
   ]
  },
  {
   "cell_type": "code",
   "execution_count": 20,
   "metadata": {},
   "outputs": [],
   "source": [
    "#Segment the third section for model\n",
    "single_string = ''\n",
    "for row in df4:\n",
    "  x = row\n",
    "  single_string += x \n",
    "string_tokenized = tokenizer.encode(single_string)"
   ]
  },
  {
   "cell_type": "code",
   "execution_count": 9,
   "metadata": {},
   "outputs": [
    {
     "name": "stderr",
     "output_type": "stream",
     "text": [
      "Token indices sequence length is longer than the specified maximum sequence length for this model (4518808 > 1024). Running this sequence through the model will result in indexing errors\n"
     ]
    }
   ],
   "source": [
    "dataset = datasetCreate(stringify_tokenize(df4))"
   ]
  },
  {
   "cell_type": "code",
   "execution_count": 10,
   "metadata": {},
   "outputs": [],
   "source": [
    "modelcompile(model)"
   ]
  },
  {
   "cell_type": "code",
   "execution_count": 11,
   "metadata": {},
   "outputs": [],
   "source": [
    "model.load_weights('tmp\\weights.30.h5')"
   ]
  },
  {
   "cell_type": "code",
   "execution_count": 12,
   "metadata": {},
   "outputs": [
    {
     "name": "stdout",
     "output_type": "stream",
     "text": [
      "Epoch 1/30\n",
      "  62/3765 [..............................] - ETA: 12:15 - loss: 4.3034 - accuracy: 0.2734"
     ]
    }
   ],
   "source": [
    "history = model.fit(dataset,epochs=30,callbacks=[model_checkpoint_callback])"
   ]
  },
  {
   "attachments": {},
   "cell_type": "markdown",
   "metadata": {},
   "source": [
    "*Fifth Segment*\n",
    "\n",
    "*Note error with the save on notebook for segment 4, however was complete\n"
   ]
  },
  {
   "cell_type": "code",
   "execution_count": 9,
   "metadata": {},
   "outputs": [],
   "source": [
    "df5 = reviews[140000:175000]"
   ]
  },
  {
   "cell_type": "code",
   "execution_count": 10,
   "metadata": {},
   "outputs": [
    {
     "name": "stderr",
     "output_type": "stream",
     "text": [
      "Token indices sequence length is longer than the specified maximum sequence length for this model (4463589 > 1024). Running this sequence through the model will result in indexing errors\n"
     ]
    }
   ],
   "source": [
    "dataset = datasetCreate(stringify_tokenize(df5))"
   ]
  },
  {
   "cell_type": "code",
   "execution_count": 8,
   "metadata": {},
   "outputs": [],
   "source": [
    "modelcompile(model)\n",
    "model.load_weights('tmp\\weights.30.h5')"
   ]
  },
  {
   "cell_type": "code",
   "execution_count": 12,
   "metadata": {},
   "outputs": [
    {
     "name": "stdout",
     "output_type": "stream",
     "text": [
      "Epoch 1/30\n",
      "3719/3719 [==============================] - 763s 202ms/step - loss: 3.7209 - accuracy: 0.3098\n",
      "Epoch 2/30\n",
      "3719/3719 [==============================] - 700s 188ms/step - loss: 3.3997 - accuracy: 0.3381\n",
      "Epoch 3/30\n",
      "3719/3719 [==============================] - 734s 197ms/step - loss: 3.1657 - accuracy: 0.3616\n",
      "Epoch 4/30\n",
      "3719/3719 [==============================] - 697s 187ms/step - loss: 2.9523 - accuracy: 0.3851\n",
      "Epoch 5/30\n",
      "3719/3719 [==============================] - 663s 178ms/step - loss: 2.7527 - accuracy: 0.4095\n",
      "Epoch 6/30\n",
      "3719/3719 [==============================] - 660s 177ms/step - loss: 2.5664 - accuracy: 0.4335\n",
      "Epoch 7/30\n",
      "3719/3719 [==============================] - 660s 177ms/step - loss: 2.3944 - accuracy: 0.4578\n",
      "Epoch 8/30\n",
      "3719/3719 [==============================] - 660s 177ms/step - loss: 2.2384 - accuracy: 0.4805\n",
      "Epoch 9/30\n",
      "3719/3719 [==============================] - 662s 178ms/step - loss: 2.0958 - accuracy: 0.5030\n",
      "Epoch 10/30\n",
      "3719/3719 [==============================] - 661s 178ms/step - loss: 1.9666 - accuracy: 0.5241\n",
      "Epoch 11/30\n",
      "3719/3719 [==============================] - 661s 178ms/step - loss: 1.8504 - accuracy: 0.5439\n",
      "Epoch 12/30\n",
      "3719/3719 [==============================] - 660s 178ms/step - loss: 1.7444 - accuracy: 0.5621\n",
      "Epoch 13/30\n",
      "3719/3719 [==============================] - 660s 177ms/step - loss: 1.6474 - accuracy: 0.5798\n",
      "Epoch 14/30\n",
      "3719/3719 [==============================] - 660s 178ms/step - loss: 1.5593 - accuracy: 0.5963\n",
      "Epoch 15/30\n",
      "3719/3719 [==============================] - 663s 178ms/step - loss: 1.4782 - accuracy: 0.6122\n",
      "Epoch 16/30\n",
      "3719/3719 [==============================] - 750s 202ms/step - loss: 1.4051 - accuracy: 0.6264\n",
      "Epoch 17/30\n",
      "3719/3719 [==============================] - 686s 184ms/step - loss: 1.3366 - accuracy: 0.6404\n",
      "Epoch 18/30\n",
      "3719/3719 [==============================] - 681s 183ms/step - loss: 1.2742 - accuracy: 0.6534\n",
      "Epoch 19/30\n",
      "3719/3719 [==============================] - 664s 179ms/step - loss: 1.2164 - accuracy: 0.6656\n",
      "Epoch 20/30\n",
      "3719/3719 [==============================] - 662s 178ms/step - loss: 1.1629 - accuracy: 0.6773\n",
      "Epoch 21/30\n",
      "3719/3719 [==============================] - 665s 179ms/step - loss: 1.1141 - accuracy: 0.6879\n",
      "Epoch 22/30\n",
      "3719/3719 [==============================] - 661s 178ms/step - loss: 1.0672 - accuracy: 0.6984\n",
      "Epoch 23/30\n",
      "3719/3719 [==============================] - 661s 178ms/step - loss: 1.0256 - accuracy: 0.7079\n",
      "Epoch 24/30\n",
      "3719/3719 [==============================] - 661s 178ms/step - loss: 0.9843 - accuracy: 0.7178\n",
      "Epoch 25/30\n",
      "3719/3719 [==============================] - 662s 178ms/step - loss: 0.9483 - accuracy: 0.7262\n",
      "Epoch 26/30\n",
      "3719/3719 [==============================] - 663s 178ms/step - loss: 0.9129 - accuracy: 0.7348\n",
      "Epoch 27/30\n",
      "3719/3719 [==============================] - 663s 178ms/step - loss: 0.8804 - accuracy: 0.7432\n",
      "Epoch 28/30\n",
      "3719/3719 [==============================] - 749s 201ms/step - loss: 0.8501 - accuracy: 0.7503\n",
      "Epoch 29/30\n",
      "3719/3719 [==============================] - 737s 198ms/step - loss: 0.8208 - accuracy: 0.7580\n",
      "Epoch 30/30\n",
      "3719/3719 [==============================] - 665s 179ms/step - loss: 0.7959 - accuracy: 0.7642\n"
     ]
    }
   ],
   "source": [
    "history = model.fit(dataset,epochs=30,callbacks=[model_checkpoint_callback])"
   ]
  },
  {
   "cell_type": "code",
   "execution_count": 17,
   "metadata": {},
   "outputs": [
    {
     "name": "stdout",
     "output_type": "stream",
     "text": [
      "this place is amazing and totally worth it. had the pho martini which was absolutely delicious. can't wait to go back and try the dinner menu. best vietnamese in the city. don't miss out on this place, it's worth the trip!very good service and even better delicious food. we ordered the buffalo style wings, blue plate, and bbq nachos. the wings were the best i have ever had, no other place makes them better. my husband and i had pork sandwich was definitely had brisketizer was excellent, regardless of the pulled pork sandwiches were delicious andoumi 12 oz. beer selection was so much better than most flavorful and it wasnthe maple syrup, this is not a great craft beer list had a heart attack on point, the breaded friends had such a very generous with a bit of course like most gcame to die for those wings covered in fact, def try at wagio's n.p meet my\n"
     ]
    }
   ],
   "source": [
    "text = \"this place\"\n",
    "# encoding the input text\n",
    "input_ids = tokenizer.encode(text, return_tensors='tf')\n",
    "# getting out output\n",
    "output = model.generate(\n",
    "  input_ids,\n",
    "  max_length = 200,\n",
    "  num_beams = 5,\n",
    "  temperature = 0.75,\n",
    "  no_repeat_ngram_size=2,\n",
    "  num_return_sequences=5\n",
    ")\n",
    "outputed = tokenizer.decode(output[0])\n",
    "\n",
    "outputed.strip() #Remove whitespace\n",
    "outputed.replace(\"\\n\", \" \") #Remove escape characters\n",
    "print(outputed)"
   ]
  },
  {
   "cell_type": "code",
   "execution_count": 18,
   "metadata": {},
   "outputs": [
    {
     "name": "stdout",
     "output_type": "stream",
     "text": [
      "i found this place on yelp.  typically i don't write reviews, but i felt compelled to do so on my trip here.\n",
      "\n",
      "my friends and i came here for a mid-afternoon date with a friend, and we were both more than pleased with our experience. eating here is a bit of a bummer, because it's more on the small side and there's no host/wait staff and you order at the counter, or you can sit and eat there. but after your food in the next to go where there and it seems like a few minutes away from the hostess some time. if you'll beign chit was not really loud and chatty little while you do get take out in a table top table by the same dining room service isnt feel rushed out of course. so far away,  but the only to wait, so it took even better yet another 20 minutes after that way too long long. on a little bit pricey but not\n"
     ]
    }
   ],
   "source": [
    "text = \"i found\"\n",
    "# encoding the input text\n",
    "input_ids = tokenizer.encode(text, return_tensors='tf')\n",
    "# getting out output\n",
    "output = model.generate(\n",
    "  input_ids,\n",
    "  max_length = 200,\n",
    "  num_beams = 5,\n",
    "  temperature = 0.65,\n",
    "  no_repeat_ngram_size=2,\n",
    "  num_return_sequences=1\n",
    ")\n",
    "outputed = tokenizer.decode(output[0])\n",
    "\n",
    "outputed.strip() #Remove whitespace\n",
    "outputed.replace(\"\\n\", \" \") #Remove escape characters\n",
    "print(outputed)"
   ]
  },
  {
   "cell_type": "code",
   "execution_count": 19,
   "metadata": {},
   "outputs": [
    {
     "name": "stdout",
     "output_type": "stream",
     "text": [
      "never again \n",
      "\n",
      "1. food came out cold\n",
      "2. my panera bread was warm\n",
      "3. tasted plastic film better\n",
      "4. be polite i finished my meal before i could even attempt to eat it\n",
      "5. complained to the manager who had took it off the bill and brought me a free dessert that i didn't order,\n",
      "6. when i went to pay i noticed my receipts were left at the table by the owners name and i wished i had never complained despite the way of this place.\n",
      "overall this restaurant should have had such a 30 seconds away!!!!!!\n",
      "i did not having this placethe\n",
      "it was taking my experience.this wasntheated my dissatisfaction with an employee who i didnt know the\n"
     ]
    }
   ],
   "source": [
    "text = \"never again\"\n",
    "# encoding the input text\n",
    "input_ids = tokenizer.encode(text, return_tensors='tf')\n",
    "# getting out output\n",
    "output = model.generate(\n",
    "  input_ids,\n",
    "  max_length = 150,\n",
    "  num_beams = 5,\n",
    "  temperature = 0.55,\n",
    "  no_repeat_ngram_size=2,\n",
    "  num_return_sequences=1\n",
    ")\n",
    "outputed = tokenizer.decode(output[0])\n",
    "\n",
    "outputed.strip() #Remove whitespace\n",
    "outputed.replace(\"\\n\", \" \") #Remove escape characters\n",
    "print(outputed)"
   ]
  },
  {
   "attachments": {},
   "cell_type": "markdown",
   "metadata": {},
   "source": [
    "*Sixth Segment*"
   ]
  },
  {
   "cell_type": "code",
   "execution_count": 9,
   "metadata": {},
   "outputs": [],
   "source": [
    "df6 = reviews[175000:205000]"
   ]
  },
  {
   "cell_type": "code",
   "execution_count": 10,
   "metadata": {},
   "outputs": [
    {
     "name": "stderr",
     "output_type": "stream",
     "text": [
      "Token indices sequence length is longer than the specified maximum sequence length for this model (3887943 > 1024). Running this sequence through the model will result in indexing errors\n"
     ]
    }
   ],
   "source": [
    "dataset = datasetCreate(stringify_tokenize(df6))"
   ]
  },
  {
   "cell_type": "code",
   "execution_count": 11,
   "metadata": {},
   "outputs": [],
   "source": [
    "modelcompile(model)\n",
    "model.load_weights('tmp\\weights.30.h5')"
   ]
  },
  {
   "cell_type": "code",
   "execution_count": 12,
   "metadata": {},
   "outputs": [
    {
     "name": "stdout",
     "output_type": "stream",
     "text": [
      "Epoch 1/30\n",
      "3239/3239 [==============================] - 595s 181ms/step - loss: 3.7368 - accuracy: 0.3083\n",
      "Epoch 2/30\n",
      "3239/3239 [==============================] - 581s 179ms/step - loss: 3.4215 - accuracy: 0.3360\n",
      "Epoch 3/30\n",
      "3239/3239 [==============================] - 577s 178ms/step - loss: 3.1928 - accuracy: 0.3589\n",
      "Epoch 4/30\n",
      "3239/3239 [==============================] - 577s 178ms/step - loss: 2.9833 - accuracy: 0.3820\n",
      "Epoch 5/30\n",
      "3239/3239 [==============================] - 577s 178ms/step - loss: 2.7864 - accuracy: 0.4053\n",
      "Epoch 6/30\n",
      "3239/3239 [==============================] - 578s 179ms/step - loss: 2.6002 - accuracy: 0.4296\n",
      "Epoch 7/30\n",
      "3239/3239 [==============================] - 577s 178ms/step - loss: 2.4271 - accuracy: 0.4537\n",
      "Epoch 8/30\n",
      "3239/3239 [==============================] - 578s 178ms/step - loss: 2.2672 - accuracy: 0.4769\n",
      "Epoch 9/30\n",
      "3239/3239 [==============================] - 585s 181ms/step - loss: 2.1196 - accuracy: 0.4998\n",
      "Epoch 10/30\n",
      "3239/3239 [==============================] - 639s 197ms/step - loss: 1.9864 - accuracy: 0.5214\n",
      "Epoch 11/30\n",
      "3239/3239 [==============================] - 578s 178ms/step - loss: 1.8647 - accuracy: 0.5418\n",
      "Epoch 12/30\n",
      "3239/3239 [==============================] - 577s 178ms/step - loss: 1.7532 - accuracy: 0.5615\n",
      "Epoch 13/30\n",
      "3239/3239 [==============================] - 577s 178ms/step - loss: 1.6522 - accuracy: 0.5801\n",
      "Epoch 14/30\n",
      "3239/3239 [==============================] - 577s 178ms/step - loss: 1.5594 - accuracy: 0.5972\n",
      "Epoch 15/30\n",
      "3239/3239 [==============================] - 578s 178ms/step - loss: 1.4748 - accuracy: 0.6136\n",
      "Epoch 16/30\n",
      "3239/3239 [==============================] - 578s 178ms/step - loss: 1.3975 - accuracy: 0.6291\n",
      "Epoch 17/30\n",
      "3239/3239 [==============================] - 577s 178ms/step - loss: 1.3250 - accuracy: 0.6434\n",
      "Epoch 18/30\n",
      "3239/3239 [==============================] - 577s 178ms/step - loss: 1.2583 - accuracy: 0.6578\n",
      "Epoch 19/30\n",
      "3239/3239 [==============================] - 577s 178ms/step - loss: 1.1975 - accuracy: 0.6704\n",
      "Epoch 20/30\n",
      "3239/3239 [==============================] - 577s 178ms/step - loss: 1.1416 - accuracy: 0.6830\n",
      "Epoch 21/30\n",
      "3239/3239 [==============================] - 576s 178ms/step - loss: 1.0899 - accuracy: 0.6945\n",
      "Epoch 22/30\n",
      "3239/3239 [==============================] - 575s 177ms/step - loss: 1.0415 - accuracy: 0.7055\n",
      "Epoch 23/30\n",
      "3239/3239 [==============================] - 575s 178ms/step - loss: 0.9972 - accuracy: 0.7154\n",
      "Epoch 24/30\n",
      "3239/3239 [==============================] - 575s 178ms/step - loss: 0.9539 - accuracy: 0.7260\n",
      "Epoch 25/30\n",
      "3239/3239 [==============================] - 575s 177ms/step - loss: 0.9153 - accuracy: 0.7353\n",
      "Epoch 26/30\n",
      "3239/3239 [==============================] - 575s 178ms/step - loss: 0.8806 - accuracy: 0.7435\n",
      "Epoch 27/30\n",
      "3239/3239 [==============================] - 575s 177ms/step - loss: 0.8462 - accuracy: 0.7524\n",
      "Epoch 28/30\n",
      "3239/3239 [==============================] - 575s 178ms/step - loss: 0.8133 - accuracy: 0.7604\n",
      "Epoch 29/30\n",
      "3239/3239 [==============================] - 576s 178ms/step - loss: 0.7845 - accuracy: 0.7678\n",
      "Epoch 30/30\n",
      "3239/3239 [==============================] - 576s 178ms/step - loss: 0.7570 - accuracy: 0.7748\n"
     ]
    }
   ],
   "source": [
    "history = model.fit(dataset,epochs=30,callbacks=[model_checkpoint_callback])"
   ]
  },
  {
   "cell_type": "code",
   "execution_count": 13,
   "metadata": {},
   "outputs": [
    {
     "data": {
      "image/png": "[encoded data removed]",
      "text/plain": [
       "<Figure size 640x480 with 1 Axes>"
      ]
     },
     "metadata": {},
     "output_type": "display_data"
    },
    {
     "data": {
      "image/png": "[encoded data removed]",
      "text/plain": [
       "<Figure size 640x480 with 1 Axes>"
      ]
     },
     "metadata": {},
     "output_type": "display_data"
    },
    {
     "name": "stdout",
     "output_type": "stream",
     "text": [
      "30\n"
     ]
    }
   ],
   "source": [
    "plot_acc()\n",
    "plot_loss()\n",
    "early_stopping_epoch = np.argmax(history.history[\"accuracy\"])+1\n",
    "print(early_stopping_epoch)"
   ]
  },
  {
   "cell_type": "code",
   "execution_count": 14,
   "metadata": {},
   "outputs": [
    {
     "name": "stdout",
     "output_type": "stream",
     "text": [
      "this place is pretty good. it's a family own restaurant, so you can bring your own food and booze along with your friends. the staff is friendly and the service is quick. they have a few tvs in case you want to watch a game.third visit and i am finding that my previous experiences were very lucky to have such a better experience.  the $15/person entrance rate from your table prior to the waiter telling us the kitchen is open until 10pm, then turns out the cook time.\n",
      "to bella opened a new or maybe 15 minutes later ( when we were we went right before 8:45amazingly, it was going to close), your food is the next time rather than later, yes, i've been some people who wants it wasn't run down.) the hostessire resturposed pinot chipotle order of course - really good luck getting hungry and your order is everything goes) you had to start\"faire. i'm a\n"
     ]
    }
   ],
   "source": [
    "text = \"this place\"\n",
    "# encoding the input text\n",
    "input_ids = tokenizer.encode(text, return_tensors='tf')\n",
    "# getting out output\n",
    "output = model.generate(\n",
    "  input_ids,\n",
    "  max_length = 200,\n",
    "  num_beams = 5,\n",
    "  temperature = 0.75,\n",
    "  no_repeat_ngram_size=2,\n",
    "  num_return_sequences=1\n",
    ")\n",
    "outputed = tokenizer.decode(output[0])\n",
    "\n",
    "outputed.strip() #Remove whitespace\n",
    "outputed.replace(\"\\n\", \" \") #Remove escape characters\n",
    "print(outputed)"
   ]
  },
  {
   "cell_type": "code",
   "execution_count": 15,
   "metadata": {},
   "outputs": [
    {
     "name": "stdout",
     "output_type": "stream",
     "text": [
      "i found this wendy's to be insanely charming for some reason. i stopped in for a cup of gumbo and a loaf of bread while i waited for my train.\n",
      "\n",
      "the bar has a nice selection of beers on tap but it's fairly loud (but what is a bummer with that?). there are only two bars, i've never been to one i can't get a decent sit down meal without getting a beer or two on draft. the bartenders are also pretty cool, fun to offer some of them in good - i'm not the only bad, friendly and chat with the reason why i don't complain about the nicise, but they're harassing you'll happy to each other than female. \n",
      "they do yourself.my husband and very quick and offer a good enough to get the front desk people who are slow but i wouldn't seem to chatty; strike: the first classier than most english muffler's the gracefully attentive and always have some\n"
     ]
    }
   ],
   "source": [
    "text = \"i found\"\n",
    "# encoding the input text\n",
    "input_ids = tokenizer.encode(text, return_tensors='tf')\n",
    "# getting out output\n",
    "output = model.generate(\n",
    "  input_ids,\n",
    "  max_length = 200,\n",
    "  num_beams = 5,\n",
    "  temperature = 0.65,\n",
    "  no_repeat_ngram_size=2,\n",
    "  num_return_sequences=1\n",
    ")\n",
    "outputed = tokenizer.decode(output[0])\n",
    "\n",
    "outputed.strip() #Remove whitespace\n",
    "outputed.replace(\"\\n\", \" \") #Remove escape characters\n",
    "print(outputed)"
   ]
  },
  {
   "cell_type": "code",
   "execution_count": 16,
   "metadata": {},
   "outputs": [
    {
     "name": "stdout",
     "output_type": "stream",
     "text": [
      "never again\n",
      "the worst vietnamese restaurant in the area, hands down.\n",
      "\n",
      "i ordered garden plate #9, spicy sauce(really what's beef) and veggie spring rolls. i also ordered pho no shrimp and pork but the peanut sauce was so tasteless i could only eat 1/2 of it and i don't like spicy food, that's for sure- there are much better places around that give you more than what you paid for elsewhere, and we won't be back.  eat there again.i've had a lotuscheese out at the same with other than stomach fluorescem kelly seats, but it's got the food poisoning.great hotel room service was late one of the owner's been\n"
     ]
    }
   ],
   "source": [
    "text = \"never again\"\n",
    "# encoding the input text\n",
    "input_ids = tokenizer.encode(text, return_tensors='tf')\n",
    "# getting out output\n",
    "output = model.generate(\n",
    "  input_ids,\n",
    "  max_length = 150,\n",
    "  num_beams = 5,\n",
    "  temperature = 0.55,\n",
    "  no_repeat_ngram_size=2,\n",
    "  num_return_sequences=1\n",
    ")\n",
    "outputed = tokenizer.decode(output[0])\n",
    "\n",
    "outputed.strip() #Remove whitespace\n",
    "outputed.replace(\"\\n\", \" \") #Remove escape characters\n",
    "print(outputed)"
   ]
  },
  {
   "attachments": {},
   "cell_type": "markdown",
   "metadata": {},
   "source": [
    "*Se7en*"
   ]
  },
  {
   "cell_type": "code",
   "execution_count": 8,
   "metadata": {},
   "outputs": [
    {
     "name": "stderr",
     "output_type": "stream",
     "text": [
      "Token indices sequence length is longer than the specified maximum sequence length for this model (4514414 > 1024). Running this sequence through the model will result in indexing errors\n"
     ]
    }
   ],
   "source": [
    "df7 = reviews[205000:240000]\n",
    "dataset = datasetCreate(stringify_tokenize(df7))"
   ]
  },
  {
   "cell_type": "code",
   "execution_count": 9,
   "metadata": {},
   "outputs": [],
   "source": [
    "modelcompile(model)\n",
    "model.load_weights('tmp\\weights.30.h5')"
   ]
  },
  {
   "cell_type": "code",
   "execution_count": 10,
   "metadata": {},
   "outputs": [
    {
     "name": "stdout",
     "output_type": "stream",
     "text": [
      "Epoch 1/30\n",
      "3762/3762 [==============================] - 679s 178ms/step - loss: 3.7381 - accuracy: 0.3082\n",
      "Epoch 2/30\n",
      "3762/3762 [==============================] - 670s 178ms/step - loss: 3.4378 - accuracy: 0.3346\n",
      "Epoch 3/30\n",
      "3762/3762 [==============================] - 670s 178ms/step - loss: 3.2309 - accuracy: 0.3550\n",
      "Epoch 4/30\n",
      "3762/3762 [==============================] - 667s 177ms/step - loss: 3.0478 - accuracy: 0.3744\n",
      "Epoch 5/30\n",
      "3762/3762 [==============================] - 667s 177ms/step - loss: 2.8763 - accuracy: 0.3941\n",
      "Epoch 6/30\n",
      "3762/3762 [==============================] - 667s 177ms/step - loss: 2.7162 - accuracy: 0.4136\n",
      "Epoch 7/30\n",
      "3762/3762 [==============================] - 668s 177ms/step - loss: 2.5656 - accuracy: 0.4334\n",
      "Epoch 8/30\n",
      "3762/3762 [==============================] - 667s 177ms/step - loss: 2.4243 - accuracy: 0.4529\n",
      "Epoch 9/30\n",
      "3762/3762 [==============================] - 667s 177ms/step - loss: 2.2941 - accuracy: 0.4717\n",
      "Epoch 10/30\n",
      "3762/3762 [==============================] - 667s 177ms/step - loss: 2.1734 - accuracy: 0.4902\n",
      "Epoch 11/30\n",
      "3762/3762 [==============================] - 667s 177ms/step - loss: 2.0623 - accuracy: 0.5078\n",
      "Epoch 12/30\n",
      "3762/3762 [==============================] - 668s 177ms/step - loss: 1.9597 - accuracy: 0.5246\n",
      "Epoch 13/30\n",
      "3762/3762 [==============================] - 667s 177ms/step - loss: 1.8644 - accuracy: 0.5404\n",
      "Epoch 14/30\n",
      "3762/3762 [==============================] - 667s 177ms/step - loss: 1.7771 - accuracy: 0.5556\n",
      "Epoch 15/30\n",
      "3762/3762 [==============================] - 668s 178ms/step - loss: 1.6953 - accuracy: 0.5703\n",
      "Epoch 16/30\n",
      "3762/3762 [==============================] - 668s 177ms/step - loss: 1.6207 - accuracy: 0.5839\n",
      "Epoch 17/30\n",
      "3762/3762 [==============================] - 667s 177ms/step - loss: 1.5497 - accuracy: 0.5977\n",
      "Epoch 18/30\n",
      "3762/3762 [==============================] - 667s 177ms/step - loss: 1.4847 - accuracy: 0.6102\n",
      "Epoch 19/30\n",
      "3762/3762 [==============================] - 667s 177ms/step - loss: 1.4234 - accuracy: 0.6218\n",
      "Epoch 20/30\n",
      "3762/3762 [==============================] - 667s 177ms/step - loss: 1.3667 - accuracy: 0.6338\n",
      "Epoch 21/30\n",
      "3762/3762 [==============================] - 667s 177ms/step - loss: 1.3140 - accuracy: 0.6443\n",
      "Epoch 22/30\n",
      "3762/3762 [==============================] - 667s 177ms/step - loss: 1.2643 - accuracy: 0.6546\n",
      "Epoch 23/30\n",
      "3762/3762 [==============================] - 667s 177ms/step - loss: 1.2177 - accuracy: 0.6647\n",
      "Epoch 24/30\n",
      "3762/3762 [==============================] - 667s 177ms/step - loss: 1.1742 - accuracy: 0.6740\n",
      "Epoch 25/30\n",
      "3762/3762 [==============================] - 667s 177ms/step - loss: 1.1330 - accuracy: 0.6833\n",
      "Epoch 26/30\n",
      "3762/3762 [==============================] - 667s 177ms/step - loss: 1.0933 - accuracy: 0.6921\n",
      "Epoch 27/30\n",
      "3762/3762 [==============================] - 667s 177ms/step - loss: 1.0575 - accuracy: 0.7003\n",
      "Epoch 28/30\n",
      "3762/3762 [==============================] - 667s 177ms/step - loss: 1.0215 - accuracy: 0.7085\n",
      "Epoch 29/30\n",
      "3762/3762 [==============================] - 667s 177ms/step - loss: 0.9899 - accuracy: 0.7159\n",
      "Epoch 30/30\n",
      "3762/3762 [==============================] - 667s 177ms/step - loss: 0.9591 - accuracy: 0.7232\n"
     ]
    }
   ],
   "source": [
    "history = model.fit(dataset,epochs=30,callbacks=[model_checkpoint_callback])"
   ]
  },
  {
   "cell_type": "code",
   "execution_count": 11,
   "metadata": {},
   "outputs": [
    {
     "data": {
      "image/png": "[encoded data removed]",
      "text/plain": [
       "<Figure size 640x480 with 1 Axes>"
      ]
     },
     "metadata": {},
     "output_type": "display_data"
    },
    {
     "data": {
      "image/png": "[encoded data removed]",
      "text/plain": [
       "<Figure size 640x480 with 1 Axes>"
      ]
     },
     "metadata": {},
     "output_type": "display_data"
    },
    {
     "name": "stdout",
     "output_type": "stream",
     "text": [
      "30\n"
     ]
    }
   ],
   "source": [
    "plot_acc()\n",
    "plot_loss()\n",
    "early_stopping_epoch = np.argmax(history.history[\"accuracy\"])+1\n",
    "print(early_stopping_epoch)"
   ]
  },
  {
   "cell_type": "code",
   "execution_count": 12,
   "metadata": {},
   "outputs": [
    {
     "name": "stdout",
     "output_type": "stream",
     "text": [
      "this place has been cited for cutting down on the music and it's evident that they are trying really hard to put out a good amount of money into providing bangs with their hair. i've been going to only two of the stylists now for a few months now and each time i was asked to book the same salon back in the day (that includes no wait time).\n",
      "\n",
      "salon rouge also gives a great scalp massage while you wait, even if you're late. mtv now, i will come after the salon is not being late-ho-sitters get a 4-staff is now i'll even sign of course at 4gifts for an hour and late night.\n",
      "-in-my back and appointment time it is also, it was able to get an extra $35-the-cata is really?only $5 hours later, she didn't even told her salon u-i- north (who does not going there is the appointment times it\n"
     ]
    }
   ],
   "source": [
    "text = \"this place\"\n",
    "# encoding the input text\n",
    "input_ids = tokenizer.encode(text, return_tensors='tf')\n",
    "# getting out output\n",
    "output = model.generate(\n",
    "  input_ids,\n",
    "  max_length = 200,\n",
    "  num_beams = 5,\n",
    "  temperature = 0.75,\n",
    "  no_repeat_ngram_size=2,\n",
    "  num_return_sequences=5\n",
    ")\n",
    "outputed = tokenizer.decode(output[0])\n",
    "\n",
    "outputed.strip() #Remove whitespace\n",
    "outputed.replace(\"\\n\", \" \") #Remove escape characters\n",
    "print(outputed)"
   ]
  },
  {
   "cell_type": "code",
   "execution_count": 13,
   "metadata": {},
   "outputs": [
    {
     "name": "stdout",
     "output_type": "stream",
     "text": [
      "i found a necklace i liked,(most of the store was 50% off) for my easter and santa barbara \n",
      "a friend and i needed a suit for the occasion and were having a wedding on the weekend and wanted her to coordinate a large party but she didn't have time to make sure. i found in time that she knew exactly what i wanted, and she managed to help me find the perfect suit that fit my needs. after looking at the other styles, i ended up on my budget and in the suitcases, she walked out of dresses and sizes.\n",
      "i send it was almost every dressings, another customer service was extremely helpful, re-so far from calvin and even told her work to get a few of lucked china helped me she realized that i was able to picky recommended the first classically worked very eclectic and walked away from nyc she let me two stores that the best.c i've had some great way around the\n"
     ]
    }
   ],
   "source": [
    "text = \"i found\"\n",
    "# encoding the input text\n",
    "input_ids = tokenizer.encode(text, return_tensors='tf')\n",
    "# getting out output\n",
    "output = model.generate(\n",
    "  input_ids,\n",
    "  max_length = 200,\n",
    "  num_beams = 5,\n",
    "  temperature = 0.65,\n",
    "  no_repeat_ngram_size=2,\n",
    "  num_return_sequences=5\n",
    ")\n",
    "outputed = tokenizer.decode(output[0])\n",
    "\n",
    "outputed.strip() #Remove whitespace\n",
    "outputed.replace(\"\\n\", \" \") #Remove escape characters\n",
    "print(outputed)"
   ]
  },
  {
   "cell_type": "code",
   "execution_count": 14,
   "metadata": {},
   "outputs": [
    {
     "name": "stdout",
     "output_type": "stream",
     "text": [
      "never again. \n",
      "\n",
      "do not, i repeat, do not use them.what can i say that hasn't already been said? the place is clean, the service is friendly, and it is cheap. what more could you want? you can get a gyro piled high with meat, rice and your choice of appetizer and a beer and get it delivered. the food may take a while to come out, but i think this place has great potential to be a great hangout spot for any time. i've never will definitely a nice place for a place that it's all around and if you should beignet next time, def one of an okrare dining experience. skip the appropriate place along with great way to go\n"
     ]
    }
   ],
   "source": [
    "text = \"never again\"\n",
    "# encoding the input text\n",
    "input_ids = tokenizer.encode(text, return_tensors='tf')\n",
    "# getting out output\n",
    "output = model.generate(\n",
    "  input_ids,\n",
    "  max_length = 150,\n",
    "  num_beams = 5,\n",
    "  temperature = 0.55,\n",
    "  no_repeat_ngram_size=2,\n",
    "  num_return_sequences=5\n",
    ")\n",
    "outputed = tokenizer.decode(output[0])\n",
    "\n",
    "outputed.strip() #Remove whitespace\n",
    "outputed.replace(\"\\n\", \" \") #Remove escape characters\n",
    "print(outputed)"
   ]
  },
  {
   "attachments": {},
   "cell_type": "markdown",
   "metadata": {},
   "source": [
    "**Trying Large Dataframe 250k**"
   ]
  },
  {
   "cell_type": "code",
   "execution_count": 26,
   "metadata": {},
   "outputs": [],
   "source": [
    "dfl1 = reviews[:250000]"
   ]
  },
  {
   "cell_type": "code",
   "execution_count": 27,
   "metadata": {},
   "outputs": [
    {
     "name": "stderr",
     "output_type": "stream",
     "text": [
      "Token indices sequence length is longer than the specified maximum sequence length for this model (32109083 > 1024). Running this sequence through the model will result in indexing errors\n"
     ]
    }
   ],
   "source": [
    "dataset = datasetCreate(stringify_tokenize(dfl1))"
   ]
  },
  {
   "cell_type": "code",
   "execution_count": 28,
   "metadata": {},
   "outputs": [],
   "source": [
    "modelcompile(model)\n",
    "model.load_weights('tmp\\weights.30.h5')"
   ]
  },
  {
   "cell_type": "code",
   "execution_count": 29,
   "metadata": {},
   "outputs": [
    {
     "name": "stdout",
     "output_type": "stream",
     "text": [
      "Epoch 1/5\n",
      "26757/26757 [==============================] - 4908s 183ms/step - loss: 3.3240 - accuracy: 0.3439\n",
      "Epoch 2/5\n",
      "26757/26757 [==============================] - 4762s 178ms/step - loss: 3.1654 - accuracy: 0.3585\n",
      "Epoch 3/5\n",
      "26757/26757 [==============================] - 4984s 186ms/step - loss: 3.0886 - accuracy: 0.3661\n",
      "Epoch 4/5\n",
      "26757/26757 [==============================] - 4957s 185ms/step - loss: 3.0318 - accuracy: 0.3719\n",
      "Epoch 5/5\n",
      "26757/26757 [==============================] - 4800s 179ms/step - loss: 2.9862 - accuracy: 0.3766\n"
     ]
    }
   ],
   "source": [
    "history = model.fit(dataset,epochs=5,callbacks=[model_checkpoint_callback])"
   ]
  },
  {
   "cell_type": "code",
   "execution_count": 30,
   "metadata": {},
   "outputs": [
    {
     "name": "stdout",
     "output_type": "stream",
     "text": [
      "Epoch 1/2\n",
      "26757/26757 [==============================] - 5282s 197ms/step - loss: 2.9472 - accuracy: 0.3808\n",
      "Epoch 2/2\n",
      "26757/26757 [==============================] - 5731s 214ms/step - loss: 2.9132 - accuracy: 0.3845\n"
     ]
    }
   ],
   "source": [
    "history = model.fit(dataset,epochs=2,callbacks=[model_checkpoint_callback])"
   ]
  },
  {
   "cell_type": "code",
   "execution_count": 31,
   "metadata": {},
   "outputs": [
    {
     "name": "stdout",
     "output_type": "stream",
     "text": [
      "this place is great!  the food is delicious, the service is friendly, and the atmosphere is relaxed.  it's a great place to go with a group of friends to catch up with each other and have a good time.\n",
      "\n",
      "i've been here a few times now and i've never had a bad experience, except for the one time when it was very busy and we had to wait about 20 minutes for a table, but it wasn't a big deal because there were plenty of open tables and lots of seats at least that could have been people in front of people waiting for us when we could beignets going on bourbon street parking spots, so many people coming in the tables available.i'm not enough seats. i guess what seemed to choose to do to see. the line out front desk staff was no waitresses walking around the nightlife there's always a lot of places that were able to look forward to eat here. we got us and a couple of tables.\n"
     ]
    }
   ],
   "source": [
    "text = \"this place\"\n",
    "# encoding the input text\n",
    "input_ids = tokenizer.encode(text, return_tensors='tf')\n",
    "# getting out output\n",
    "output = model.generate(\n",
    "  input_ids,\n",
    "  max_length = 200,\n",
    "  num_beams = 5,\n",
    "  temperature = 0.75,\n",
    "  no_repeat_ngram_size=2,\n",
    "  num_return_sequences=1\n",
    ")\n",
    "outputed = tokenizer.decode(output[0])\n",
    "\n",
    "outputed.strip() #Remove whitespace\n",
    "outputed.replace(\"\\n\", \" \") #Remove escape characters\n",
    "print(outputed)"
   ]
  },
  {
   "cell_type": "code",
   "execution_count": 32,
   "metadata": {},
   "outputs": [
    {
     "name": "stdout",
     "output_type": "stream",
     "text": [
      "i found this place on yelp and decided to give it a try.  i'm glad i did!  the food was delicious and the service was excellent.\n",
      "\n",
      "i had the shrimp and grits and it was the best i've had in a very long time. i also had a bite of my friend's bbq shrimp, which was also very good, but i was surprised at how much i liked it. it came with a side of rice and beans, and i believe that was a biscuit, of course, as well, although the portion size was enough toasted bread pudding (i believe mehintangryeektastfully, i should have to be careful note that's what i think it's not enough for $8)i should be honest, if you can't remember, the btwice cream cheese, not a half of) i forgettable).ex:  $9) the only, for dessert) to my friends of\n"
     ]
    }
   ],
   "source": [
    "text = \"i found\"\n",
    "# encoding the input text\n",
    "input_ids = tokenizer.encode(text, return_tensors='tf')\n",
    "# getting out output\n",
    "output = model.generate(\n",
    "  input_ids,\n",
    "  max_length = 200,\n",
    "  num_beams = 5,\n",
    "  temperature = 0.65,\n",
    "  no_repeat_ngram_size=2,\n",
    "  num_return_sequences=1\n",
    ")\n",
    "outputed = tokenizer.decode(output[0])\n",
    "\n",
    "outputed.strip() #Remove whitespace\n",
    "outputed.replace(\"\\n\", \" \") #Remove escape characters\n",
    "print(outputed)"
   ]
  },
  {
   "cell_type": "code",
   "execution_count": 33,
   "metadata": {},
   "outputs": [
    {
     "name": "stdout",
     "output_type": "stream",
     "text": [
      "never again. \n",
      "\n",
      "i ordered a salad and it came out with no dressing at all. i asked for a dressing on the side and was informed that they don't have dressing. the salad was supposed to have cucumbers, tomatoes, onions, cilantro, etc. but instead was served on a bed of iceberg lettuce. it was not fresh. my husband had the chicken parm and said it wasn't cooked all the way. he said he would have to go back to the kitchen to get it's kitchen and get the store to fix italian restaurant to check outback.\n",
      "the salad bar tenderloose tracks the front desk and ask for another one of the back. we were told him. when he thought it would be\n"
     ]
    }
   ],
   "source": [
    "text = \"never again\"\n",
    "# encoding the input text\n",
    "input_ids = tokenizer.encode(text, return_tensors='tf')\n",
    "# getting out output\n",
    "output = model.generate(\n",
    "  input_ids,\n",
    "  max_length = 150,\n",
    "  num_beams = 2,\n",
    "  temperature = 0.55,\n",
    "  no_repeat_ngram_size=2,\n",
    "  num_return_sequences=1\n",
    ")\n",
    "outputed = tokenizer.decode(output[0])\n",
    "\n",
    "outputed.strip() #Remove whitespace\n",
    "outputed.replace(\"\\n\", \" \") #Remove escape characters\n",
    "print(outputed)"
   ]
  },
  {
   "cell_type": "code",
   "execution_count": 34,
   "metadata": {},
   "outputs": [
    {
     "name": "stdout",
     "output_type": "stream",
     "text": [
      "love going here for lunch or dinner.  it's a great place to meet up with a friend for a drink and a bite to eat.\n",
      "\n",
      "the food is always good and the service is fast and friendly.i've been here a few times now, and i have to say that it is one of the best sushi places in the area. the fish is fresh, the rolls are delicious and they have a wide variety of options for vegetarians and meat eaters alike. i usually get the veggie sushi rolls and my go for the salmon sashville roll, however, which is not only order the calif you can't find something new yelpork chopstick to start with the spicy tuna, but i've had the\n"
     ]
    }
   ],
   "source": [
    "text = \"love going here\"\n",
    "# encoding the input text\n",
    "input_ids = tokenizer.encode(text, return_tensors='tf')\n",
    "# getting out output\n",
    "output = model.generate(\n",
    "  input_ids,\n",
    "  max_length = 150,\n",
    "  num_beams = 12,\n",
    "  temperature = 0.55,\n",
    "  no_repeat_ngram_size=2,\n",
    "  num_return_sequences=1\n",
    ")\n",
    "outputed = tokenizer.decode(output[0])\n",
    "print(outputed)"
   ]
  },
  {
   "cell_type": "code",
   "execution_count": 36,
   "metadata": {},
   "outputs": [],
   "source": [
    "modelcompile(model)\n",
    "model.load_weights('tmp\\weights.02.h5')"
   ]
  },
  {
   "cell_type": "code",
   "execution_count": 38,
   "metadata": {},
   "outputs": [
    {
     "name": "stderr",
     "output_type": "stream",
     "text": [
      "Token indices sequence length is longer than the specified maximum sequence length for this model (32109083 > 1024). Running this sequence through the model will result in indexing errors\n"
     ]
    }
   ],
   "source": [
    "dataset = datasetCreate(stringify_tokenize(dfl1))"
   ]
  },
  {
   "cell_type": "code",
   "execution_count": 39,
   "metadata": {},
   "outputs": [
    {
     "name": "stdout",
     "output_type": "stream",
     "text": [
      "Epoch 1/5\n",
      "26757/26757 [==============================] - 4965s 185ms/step - loss: 2.8884 - accuracy: 0.3874\n",
      "Epoch 2/5\n",
      "26757/26757 [==============================] - 4794s 179ms/step - loss: 2.8570 - accuracy: 0.3907\n",
      "Epoch 3/5\n",
      "26757/26757 [==============================] - 4763s 178ms/step - loss: 2.8311 - accuracy: 0.3936\n",
      "Epoch 4/5\n",
      "26757/26757 [==============================] - 4769s 178ms/step - loss: 2.8077 - accuracy: 0.3962\n",
      "Epoch 5/5\n",
      "26757/26757 [==============================] - 4765s 178ms/step - loss: 2.7860 - accuracy: 0.3986\n"
     ]
    }
   ],
   "source": [
    "history = model.fit(dataset,epochs=5,callbacks=[model_checkpoint_callback])"
   ]
  },
  {
   "cell_type": "code",
   "execution_count": 40,
   "metadata": {},
   "outputs": [
    {
     "name": "stdout",
     "output_type": "stream",
     "text": [
      "Epoch 1/2\n",
      "26757/26757 [==============================] - 4906s 183ms/step - loss: 2.7657 - accuracy: 0.4010\n",
      "Epoch 2/2\n",
      "26757/26757 [==============================] - 4770s 178ms/step - loss: 2.7468 - accuracy: 0.4032\n"
     ]
    }
   ],
   "source": [
    "history = model.fit(dataset,epochs=2,callbacks=[model_checkpoint_callback])"
   ]
  },
  {
   "cell_type": "code",
   "execution_count": 41,
   "metadata": {},
   "outputs": [
    {
     "name": "stdout",
     "output_type": "stream",
     "text": [
      "this place is great! i've been here a few times and it's always a great experience. the staff is very friendly and the food is always fresh and delicious. i would recommend this place to anyone who wants to get some good mexican food in the tampa bay area.i have been going to this nail salon since i moved to the area a couple of years ago.  i have never had a bad manicure or pedicure and have always been happy with the quality of the work done by the service and attention to last time. they use of my nails.\n",
      "\n",
      "imy nail techspture/personality and cleanliness of their work they do not so far removed from what i amellebtwice shave ice creaminess of workmanship. every time i always excellent customer service is consistent quality work that i'm not being servicing and care for the price, but i never been there are done here!\n",
      "thegelato's presentions to\n"
     ]
    }
   ],
   "source": [
    "text = \"this place\"\n",
    "# encoding the input text\n",
    "input_ids = tokenizer.encode(text, return_tensors='tf')\n",
    "# getting out output\n",
    "output = model.generate(\n",
    "  input_ids,\n",
    "  max_length = 200,\n",
    "  num_beams = 12,\n",
    "  temperature = 0.75,\n",
    "  no_repeat_ngram_size=2,\n",
    "  num_return_sequences=1\n",
    ")\n",
    "outputed = tokenizer.decode(output[0])\n",
    "\n",
    "outputed.strip() #Remove whitespace\n",
    "outputed.replace(\"\\n\", \" \") #Remove escape characters\n",
    "print(outputed)"
   ]
  },
  {
   "cell_type": "code",
   "execution_count": 42,
   "metadata": {},
   "outputs": [
    {
     "name": "stdout",
     "output_type": "stream",
     "text": [
      "i found this place on yelp and decided to give it a try. i'm so glad i did. the food was delicious and the service was great. my only complaint is that i wish they had a gluten-free bun option, but that's not a big deal to me. overall, it was a great experience and i will definitely be going back.i've been here a few times now and have to say that it is one of the best sushi places i've ever been to. \n",
      "the sushi restaurants in st louisnashville. this side by far in my favorite sushi bar none of which is arizona.\n",
      "\n",
      "if you can get in flor anywhere in indianapolis of any of all around here in tampa bay area of my entire year old city centreived in the sushi rolls and that hasn't to date with a hundred miles from st petite twenty miles away from the quality food is probably the fishtown. it's ever had.\n"
     ]
    }
   ],
   "source": [
    "text = \"i found\"\n",
    "# encoding the input text\n",
    "input_ids = tokenizer.encode(text, return_tensors='tf')\n",
    "# getting out output\n",
    "output = model.generate(\n",
    "  input_ids,\n",
    "  max_length = 200,\n",
    "  num_beams = 13,\n",
    "  temperature = 0.65,\n",
    "  no_repeat_ngram_size=2,\n",
    "  num_return_sequences=1\n",
    ")\n",
    "outputed = tokenizer.decode(output[0])\n",
    "\n",
    "outputed.strip() #Remove whitespace\n",
    "outputed.replace(\"\\n\", \" \") #Remove escape characters\n",
    "print(outputed)"
   ]
  },
  {
   "cell_type": "code",
   "execution_count": 43,
   "metadata": {},
   "outputs": [
    {
     "name": "stdout",
     "output_type": "stream",
     "text": [
      "never again.i've been here a few times now and i have to say that it is one of the best sushi places i've ever been to. the fish is always fresh and the service is great. \n",
      "\n",
      "if you're looking for a good sushi place, this is not the place for you. but if you want great sushi at a great price, you won't be disappointed.this is my favorite place to go when i'm in the mood for mexican and don't want to splur tilapart from calif i crave longwood right now. it's not to get tired of any type of all overpriced food. they have time. i love italian food is just chill out of asian food and\n"
     ]
    }
   ],
   "source": [
    "text = \"never again\"\n",
    "# encoding the input text\n",
    "input_ids = tokenizer.encode(text, return_tensors='tf')\n",
    "# getting out output\n",
    "output = model.generate(\n",
    "  input_ids,\n",
    "  max_length = 150,\n",
    "  num_beams = 12,\n",
    "  temperature = 0.55,\n",
    "  no_repeat_ngram_size=2,\n",
    "  num_return_sequences=1\n",
    ")\n",
    "outputed = tokenizer.decode(output[0])\n",
    "\n",
    "outputed.strip() #Remove whitespace\n",
    "outputed.replace(\"\\n\", \" \") #Remove escape characters\n",
    "print(outputed)"
   ]
  },
  {
   "cell_type": "code",
   "execution_count": 10,
   "metadata": {},
   "outputs": [],
   "source": [
    "modelcompile(model)\n",
    "model.load_weights('tmp\\weights.02.h5')"
   ]
  },
  {
   "cell_type": "code",
   "execution_count": 11,
   "metadata": {},
   "outputs": [
    {
     "name": "stdout",
     "output_type": "stream",
     "text": [
      "Epoch 1/5\n",
      "26757/26757 [==============================] - 4908s 183ms/step - loss: 2.7336 - accuracy: 0.4049\n",
      "Epoch 2/5\n",
      "26757/26757 [==============================] - 4789s 179ms/step - loss: 2.7140 - accuracy: 0.4071\n",
      "Epoch 3/5\n",
      "26757/26757 [==============================] - 4752s 178ms/step - loss: 2.6978 - accuracy: 0.4090\n",
      "Epoch 4/5\n",
      "26757/26757 [==============================] - 4760s 178ms/step - loss: 2.6824 - accuracy: 0.4108\n",
      "Epoch 5/5\n",
      "26757/26757 [==============================] - 4757s 178ms/step - loss: 2.6681 - accuracy: 0.4125\n"
     ]
    }
   ],
   "source": [
    "history = model.fit(dataset,epochs=5,callbacks=[model_checkpoint_callback])"
   ]
  },
  {
   "cell_type": "code",
   "execution_count": 12,
   "metadata": {},
   "outputs": [
    {
     "name": "stdout",
     "output_type": "stream",
     "text": [
      "Epoch 1/3\n",
      "26757/26757 [==============================] - 4763s 178ms/step - loss: 2.6544 - accuracy: 0.4142\n",
      "Epoch 2/3\n",
      "26757/26757 [==============================] - 4754s 178ms/step - loss: 2.6414 - accuracy: 0.4158\n",
      "Epoch 3/3\n",
      "26757/26757 [==============================] - 4756s 178ms/step - loss: 2.6289 - accuracy: 0.4174\n"
     ]
    }
   ],
   "source": [
    "history = model.fit(dataset,epochs=3,callbacks=[model_checkpoint_callback])"
   ]
  },
  {
   "cell_type": "code",
   "execution_count": 13,
   "metadata": {},
   "outputs": [
    {
     "name": "stdout",
     "output_type": "stream",
     "text": [
      "never again.i've been here a couple of times, and i've never been disappointed. the food is delicious, the staff is friendly and the place is clean. \n",
      "\n",
      "the only reason i'm giving this place 4 stars instead of 5 is because i wish there was a little more variety on the menu. other than that, it's a great place to go with a group of friends, family, or just to grab a quick bite to eat. they have a lot of tvs and variety of healthy options for vegetarians takeout and healthy stuff to choose from the freshest veggie options, butchers eaters to options options choices choices options and items to to nutrition, nutrition information on their sandwiches and flavors and sandwiches, including\n"
     ]
    }
   ],
   "source": [
    "text = \"never again\"\n",
    "# encoding the input text\n",
    "input_ids = tokenizer.encode(text, return_tensors='tf')\n",
    "# getting out output\n",
    "output = model.generate(\n",
    "  input_ids,\n",
    "  max_length = 150,\n",
    "  num_beams = 12,\n",
    "  temperature = 0.55,\n",
    "  no_repeat_ngram_size=2,\n",
    "  num_return_sequences=1\n",
    ")\n",
    "outputed = tokenizer.decode(output[0])\n",
    "print(outputed)"
   ]
  },
  {
   "attachments": {},
   "cell_type": "markdown",
   "metadata": {},
   "source": [
    "*train more*"
   ]
  },
  {
   "cell_type": "code",
   "execution_count": 7,
   "metadata": {},
   "outputs": [],
   "source": [
    "modelcompile(model)\n",
    "model.load_weights('tmp\\weights.03.h5')"
   ]
  },
  {
   "cell_type": "code",
   "execution_count": 10,
   "metadata": {},
   "outputs": [
    {
     "name": "stderr",
     "output_type": "stream",
     "text": [
      "Token indices sequence length is longer than the specified maximum sequence length for this model (32109083 > 1024). Running this sequence through the model will result in indexing errors\n"
     ]
    }
   ],
   "source": [
    "dataset = datasetCreate(stringify_tokenize(dfl1))"
   ]
  },
  {
   "cell_type": "code",
   "execution_count": 11,
   "metadata": {},
   "outputs": [
    {
     "name": "stdout",
     "output_type": "stream",
     "text": [
      "Epoch 1/6\n",
      "26757/26757 [==============================] - 4776s 178ms/step - loss: 2.6206 - accuracy: 0.4185\n",
      "Epoch 2/6\n",
      "26757/26757 [==============================] - 4757s 178ms/step - loss: 2.6075 - accuracy: 0.4202\n",
      "Epoch 3/6\n",
      "26757/26757 [==============================] - 4899s 183ms/step - loss: 2.5959 - accuracy: 0.4216\n",
      "Epoch 4/6\n",
      "26757/26757 [==============================] - 4782s 179ms/step - loss: 2.5849 - accuracy: 0.4228\n",
      "Epoch 5/6\n",
      "26757/26757 [==============================] - 5126s 192ms/step - loss: 2.5747 - accuracy: 0.4242\n",
      "Epoch 6/6\n",
      "26757/26757 [==============================] - 4994s 187ms/step - loss: 2.5646 - accuracy: 0.4254\n"
     ]
    }
   ],
   "source": [
    "history = model.fit(dataset,epochs=6,callbacks=[model_checkpoint_callback])"
   ]
  },
  {
   "cell_type": "code",
   "execution_count": 27,
   "metadata": {},
   "outputs": [],
   "source": [
    "model.load_weights('tmp\\weights.06.h5')"
   ]
  },
  {
   "cell_type": "code",
   "execution_count": 28,
   "metadata": {},
   "outputs": [
    {
     "name": "stdout",
     "output_type": "stream",
     "text": [
      "this place is great.  i've been here twice and both times i had a great experience.\n",
      "\n",
      "the first time i went with a friend, and we were able to get the bottomless bellini's and shots of limoncello at the same time (which was a nice surprise).  the second time we went for happy hour, which is between 4-7pm and 6-close (i think) during the week, they have $5 margaritas and $3.we.i and half-cajunasmine mixerford 2.my husband and 1/personable swirls! étouchefrequent ($533feed-tón (beer for a few more flights of their full bar.beer!the views of yuincreと�って and can!iarsummmmmmit.25$1.cio quotes from-stesticulationit on thaiameson pals)my wifecovered urnishines\n"
     ]
    }
   ],
   "source": [
    "text = \"this place\"\n",
    "# encoding the input text\n",
    "input_ids = tokenizer.encode(text, return_tensors='tf')\n",
    "# getting out output\n",
    "output = model.generate(\n",
    "  input_ids,\n",
    "  max_length = 200,\n",
    "  num_beams = 5,\n",
    "  temperature = 0.75,\n",
    "  no_repeat_ngram_size=2,\n",
    "  num_return_sequences=1\n",
    ")\n",
    "outputed = tokenizer.decode(output[0])\n",
    "\n",
    "print(outputed)"
   ]
  },
  {
   "cell_type": "code",
   "execution_count": 29,
   "metadata": {},
   "outputs": [
    {
     "name": "stdout",
     "output_type": "stream",
     "text": [
      "i found this place on yelp and decided to give it a try. i'm so glad i did! the food was delicious and the service was great! i will definitely be back next time i am in new orleans.i've been here a few times now, and i've never had a bad experience. \n",
      "\n",
      "the food is always fresh and prepared well. the portions are generous, the prices are reasonable and it's easy to get in and out in less than 10 minutes.the moodsanta barberts threatened to prevent a half-on days.although the winter coatscoughtsunfort edison and hours.this iscase view of circumstances,the hidden costs.stoppedgrabberghitheateria before you arecase you wonton sessions during lunch rush.my fiancedonchicuredgh juxtaposefindyiatooh my budgetptuous and weeks.wecoliseum agencies.cec (whichindscase coloradoaster county\n"
     ]
    }
   ],
   "source": [
    "text = \"i found\"\n",
    "# encoding the input text\n",
    "input_ids = tokenizer.encode(text, return_tensors='tf')\n",
    "# getting out output\n",
    "output = model.generate(\n",
    "  input_ids,\n",
    "  max_length = 200,\n",
    "  num_beams = 13,\n",
    "  temperature = 0.65,\n",
    "  no_repeat_ngram_size=2,\n",
    "  num_return_sequences=1\n",
    ")\n",
    "outputed = tokenizer.decode(output[0])\n",
    "\n",
    "print(outputed)"
   ]
  },
  {
   "cell_type": "code",
   "execution_count": 30,
   "metadata": {},
   "outputs": [
    {
     "name": "stdout",
     "output_type": "stream",
     "text": [
      "never again will i go to this place.this is a great place to go for lunch or dinner. the food is always good and the staff is very friendly. i have been here several times and have never had a bad meal. \n",
      "\n",
      "the only reason i am not giving it 5 stars is because the last time we went we were told we couldn't sit anywhere on the patio because it was so hot inside. we had to wait for a table so we could sit next to the fire alarm clockeffablyably right next day before we leftovers.i wascaseanescatropubstoppedbercoaster and they would bella vinoasalmaface a firestainanita mosquitosbarreception mirror mirror\n"
     ]
    }
   ],
   "source": [
    "text = \"never again\"\n",
    "# encoding the input text\n",
    "input_ids = tokenizer.encode(text, return_tensors='tf')\n",
    "# getting out output\n",
    "output = model.generate(\n",
    "  input_ids,\n",
    "  max_length = 150,\n",
    "  num_beams = 12,\n",
    "  temperature = 0.55,\n",
    "  no_repeat_ngram_size=2,\n",
    "  num_return_sequences=1\n",
    ")\n",
    "outputed = tokenizer.decode(output[0])\n",
    "\n",
    "print(outputed)"
   ]
  },
  {
   "cell_type": "code",
   "execution_count": 9,
   "metadata": {},
   "outputs": [],
   "source": [
    "model.load_weights('tmp\\weights.30.h5')"
   ]
  },
  {
   "cell_type": "code",
   "execution_count": 10,
   "metadata": {},
   "outputs": [
    {
     "name": "stdout",
     "output_type": "stream",
     "text": [
      "i found a necklace i liked,(most of the store was 50% off) for my easter and santa barbara \n",
      "a friend and i decided to make an impulse buy the aveda candle for our engagement party.  we came in with the most recent pictures and were treated like crap and had completely blown away at the amount of time and money we received to have her (and, trust me, we shopped at least a few times a year).\n",
      "\n",
      "when it was a chick- the staff -a few months ago, i've never had a couple of course, my daughter-sitters never went south philly informed, our event we were \"i wasnt get-c 1.\n",
      "-my husband and nothing like the weekdays upon entering the past few weeks ago i was handed her name is this was able to the free plaques and we began course means that this is all around 2nd, she would have had the following usda brent\n"
     ]
    }
   ],
   "source": [
    "text = \"i found\"\n",
    "# encoding the input text\n",
    "input_ids = tokenizer.encode(text, return_tensors='tf')\n",
    "# getting out output\n",
    "output = model.generate(\n",
    "  input_ids,\n",
    "  max_length = 200,\n",
    "  num_beams = 3,\n",
    "  temperature = 0.65,\n",
    "  no_repeat_ngram_size=2,\n",
    "  num_return_sequences=1\n",
    ")\n",
    "outputed = tokenizer.decode(output[0])\n",
    "\n",
    "print(outputed)"
   ]
  },
  {
   "cell_type": "code",
   "execution_count": 11,
   "metadata": {},
   "outputs": [
    {
     "name": "stdout",
     "output_type": "stream",
     "text": [
      "this place has the most unbelievable prime time view of santa barbara!!!!!! i seriously joined this winery as soon as i stepped into the establishment! their wine and beer selection is superb!!! they offer a variety of wines, including their own for $15 or 50% off!! and to top it all off, everyone is super nice and welcoming! they make you feel like you are in the dining room. i love the modern and modern feel of the place too. my fiance and i had the wine tasting room was a glass door handlebarrio ourselves weekend nights out of wine, however, while you will definitely recommend this place was there were 4th avenue had a few months ago were sent an awesome bartender made us19 mid-c you're getting married couple of date night. this is second time around the first classically locked up his new or just couldn't even if you know that night club delish? \n",
      "the.  the second dates, and our wedding and we had\n"
     ]
    }
   ],
   "source": [
    "text = \"this place\"\n",
    "# encoding the input text\n",
    "input_ids = tokenizer.encode(text, return_tensors='tf')\n",
    "# getting out output\n",
    "output = model.generate(\n",
    "  input_ids,\n",
    "  max_length = 200,\n",
    "  num_beams = 12,\n",
    "  temperature = 0.55,\n",
    "  no_repeat_ngram_size=2,\n",
    "  num_return_sequences=1\n",
    ")\n",
    "outputed = tokenizer.decode(output[0])\n",
    "\n",
    "print(outputed)"
   ]
  },
  {
   "cell_type": "code",
   "execution_count": 13,
   "metadata": {},
   "outputs": [
    {
     "name": "stdout",
     "output_type": "stream",
     "text": [
      "they have free wine tastings on wednesday and wednesdays 6-9 pm w/o kids & 4-8.00 pm fri. and sat. although, the food is not nearly as good as any other night bar in the area. \n",
      "\n",
      "as with any restaurant in chicago, getting a table is a common occurrence. not to mention, their staff are always on top of their game, making sure that everything is running smoothly, and making me feel like i'm taking carelessly come back for a few months ago. they can beth in a new or even if i've never going to return often enough to steal my friends and confident in ny/plus young, no matter.my ability to die in their \"oh shit from the next time i'll bechicualsiskey at least one of them.funny with them at home.\"\n",
      "also, \"eatenjoy the delish.even just got lost my groupon my time into\n"
     ]
    }
   ],
   "source": [
    "text = \"they have\"\n",
    "# encoding the input text\n",
    "input_ids = tokenizer.encode(text, return_tensors='tf')\n",
    "# getting out output\n",
    "output = model.generate(\n",
    "  input_ids,\n",
    "  max_length = 200,\n",
    "  num_beams = 5,\n",
    "  temperature = 0.75,\n",
    "  no_repeat_ngram_size=2,\n",
    "  num_return_sequences=1\n",
    ")\n",
    "outputed = tokenizer.decode(output[0])\n",
    "\n",
    "print(outputed)"
   ]
  },
  {
   "cell_type": "code",
   "execution_count": 15,
   "metadata": {},
   "outputs": [],
   "source": [
    "model.load_weights('tmp\\weights.06.h5')"
   ]
  },
  {
   "cell_type": "code",
   "execution_count": 21,
   "metadata": {},
   "outputs": [
    {
     "name": "stdout",
     "output_type": "stream",
     "text": [
      "i found this place on yelp and decided to give it a try. i was not disappointed. the service was great and the food was even better. \n",
      "\n",
      "i had the shrimp and grits and they were amazing. my boyfriend got the crabmeat omelet and he said it was the best breakfast he has ever had. we will definitely be coming back here again.i've been here a few times now and i have to say that i've never had a bad experience.crowded there is piece of a meal here.my fianceei was meal there.stoppedoppedenny alterイイとcase inabout the lastly experience here yet.service.the view of food experience at xterrible service.wasnkformed diner effect on any other than enough discussion about the wayneattisting.a rude service or bad meal or a long enough time pi!i love love it yet!ifornia so far away from yells at pi's piece\n"
     ]
    }
   ],
   "source": [
    "text = \"i found\"\n",
    "# encoding the input text\n",
    "input_ids = tokenizer.encode(text, return_tensors='tf')\n",
    "# getting out output\n",
    "output = model.generate(\n",
    "  input_ids,\n",
    "  max_length = 200,\n",
    "  num_beams = 5,\n",
    "  temperature = 0.75,\n",
    "  no_repeat_ngram_size=2,\n",
    "  num_return_sequences=1\n",
    ")\n",
    "outputed = tokenizer.decode(output[0])\n",
    "\n",
    "print(outputed)"
   ]
  },
  {
   "cell_type": "code",
   "execution_count": 22,
   "metadata": {},
   "outputs": [
    {
     "name": "stdout",
     "output_type": "stream",
     "text": [
      "terrible customer service. i called to make an appointment and the receptionist was very rude. she told me that i would have to come in and wait at the front until i could be seen. when i got there, i was the only person in the waiting room. it took about 5 minutes for someone to even acknowledge me. then, after asking me what was going on, someone finally came to greet me and tell me it would be a few minutes. after waiting for about 10 minutes, another one of my appointment, and a man,i was time,itizing to finish up, the techtseko-minutesy and talking to be fart,andiso ceasaricently eavesdroppingly,notcellent doctors and telling me the doctor's drills on my diagnosis and an actually going back and hanging up (about 2 months i finally got a half-1. utesooh god forsakennutssellportions to tell the testicles)\n",
      "\n",
      "iabout one\n"
     ]
    }
   ],
   "source": [
    "text = \"terrible\"\n",
    "# encoding the input text\n",
    "input_ids = tokenizer.encode(text, return_tensors='tf')\n",
    "# getting out output\n",
    "output = model.generate(\n",
    "  input_ids,\n",
    "  max_length = 200,\n",
    "  num_beams = 5,\n",
    "  temperature = 0.75,\n",
    "  no_repeat_ngram_size=2,\n",
    "  num_return_sequences=1\n",
    ")\n",
    "outputed = tokenizer.decode(output[0])\n",
    "\n",
    "print(outputed)"
   ]
  },
  {
   "attachments": {},
   "cell_type": "markdown",
   "metadata": {},
   "source": [
    "*Smaller Block Size Test*"
   ]
  },
  {
   "cell_type": "code",
   "execution_count": 10,
   "metadata": {},
   "outputs": [
    {
     "name": "stderr",
     "output_type": "stream",
     "text": [
      "Token indices sequence length is longer than the specified maximum sequence length for this model (32109083 > 1024). Running this sequence through the model will result in indexing errors\n"
     ]
    }
   ],
   "source": [
    "modelcompile(model)\n",
    "dfl1 = reviews[:250000]\n",
    "dataset = datasetCreate(stringify_tokenize(dfl1))"
   ]
  },
  {
   "cell_type": "code",
   "execution_count": 12,
   "metadata": {},
   "outputs": [
    {
     "name": "stdout",
     "output_type": "stream",
     "text": [
      "267575/267575 [==============================] - 22552s 84ms/step - loss: 4.5001 - accuracy: 0.2243\n"
     ]
    }
   ],
   "source": [
    "history = model.fit(dataset,epochs=1,callbacks=[model_checkpoint_callback])"
   ]
  },
  {
   "cell_type": "code",
   "execution_count": 13,
   "metadata": {},
   "outputs": [
    {
     "name": "stdout",
     "output_type": "stream",
     "text": [
      "they have they have it has have has has with has had has their own their dogs have their has your own your has the own with their sandwiches their their burgers have had their have made their chips has a has you have you has it's has in their fresh their they has all their've the dogs has my own the have been has been have my life been had it've been having had. i have never had to have not been getting it had been to get in my car.  got it. they got my dog got to be getting my food. you can been done.i been doing the car got a car had not not made me with my nails been made. it with me in getting a place. not had in have to order. get my order in his car has to me. my experience it up with the place i got me, i had i can made it in her carhad. she. he have a good car getting in.\n",
      " getting been got i've a\n"
     ]
    }
   ],
   "source": [
    "text = \"they have\"\n",
    "# encoding the input text\n",
    "input_ids = tokenizer.encode(text, return_tensors='tf')\n",
    "# getting out output\n",
    "output = model.generate(\n",
    "  input_ids,\n",
    "  max_length = 200,\n",
    "  num_beams = 25,\n",
    "  temperature = 0.55,\n",
    "  no_repeat_ngram_size=2,\n",
    "  num_return_sequences=1\n",
    ")\n",
    "outputed = tokenizer.decode(output[0])\n",
    "\n",
    "print(outputed)"
   ]
  },
  {
   "cell_type": "code",
   "execution_count": 14,
   "metadata": {},
   "outputs": [
    {
     "name": "stdout",
     "output_type": "stream",
     "text": [
      "they have they have ever have have has ever had ever ever never ever not have never had. i have had it has the best ever been ever tried i've ever gotten me have not been done it's ever got me has it had not had i ever done with me've't been't have been not gotten it have me had the me ever seen me i had to have made me not seen them. they've not done the r ever received me.i have to say ever eaten.  ever experienced it've never seen in my nails. he had been had in..\n",
      "\n",
      "i've been to get my life, i got my experience. she have got it. ever to be done. you've had a customer. in i can never been getting me! i'm not ever't to me, they got in the job. my car job, he have done!   i will ever.'t get it!i had! he've got the wrong. been doing. the\n"
     ]
    }
   ],
   "source": [
    "text = \"they have\"\n",
    "# encoding the input text\n",
    "input_ids = tokenizer.encode(text, return_tensors='tf')\n",
    "# getting out output\n",
    "output = model.generate(\n",
    "  input_ids,\n",
    "  max_length = 200,\n",
    "  num_beams = 13,\n",
    "  temperature = 0.75,\n",
    "  no_repeat_ngram_size=2,\n",
    "  num_return_sequences=1\n",
    ")\n",
    "outputed = tokenizer.decode(output[0])\n",
    "\n",
    "print(outputed)"
   ]
  },
  {
   "cell_type": "code",
   "execution_count": 16,
   "metadata": {},
   "outputs": [
    {
     "name": "stdout",
     "output_type": "stream",
     "text": [
      "i found that i found it i've tried to try it tried it with it myself italian. i love having to see.  love that.i've've found some've have've used to have tried that they've purchased tried with the best tried you've haven tried i have found i tried. they have haven found myself has to find myself with their own their best used. with this has the traditional.. you have. love their other've love. have their. has a wide has some have used the own you has their dogs has great flavors love the various with some love with other have with that has that have enjoyed with my favorite found.my favorite've had. my new favorite love it.'ve ever've enjoyed. we've can found!i have been've won't have!'ve got the new ever found my boyfriend've created.this has my best.we've been found in my own been.love.best've never've gotten.have found a new've\n"
     ]
    }
   ],
   "source": [
    "text = \"i found\"\n",
    "# encoding the input text\n",
    "input_ids = tokenizer.encode(text, return_tensors='tf')\n",
    "# getting out output\n",
    "output = model.generate(\n",
    "  input_ids,\n",
    "  max_length = 200,\n",
    "  num_beams = 13,\n",
    "  temperature = 0.25,\n",
    "  no_repeat_ngram_size=2,\n",
    "  num_return_sequences=1\n",
    ")\n",
    "outputed = tokenizer.decode(output[0])\n",
    "\n",
    "print(outputed)"
   ]
  },
  {
   "attachments": {},
   "cell_type": "markdown",
   "metadata": {},
   "source": [
    "**Evaluation**\n",
    "\n",
    "From manual review, I have identified the best set of weights from all the trained stages of the model, with this version having the best overall clarity along with realistic langauge sentiment regarding the attitude towards the review. "
   ]
  },
  {
   "cell_type": "code",
   "execution_count": 4,
   "metadata": {},
   "outputs": [],
   "source": [
    "modelcompile(model)\n",
    "model.load_weights('tmp3\\weights.02.h5') #Rework of large train model before issues with context"
   ]
  },
  {
   "cell_type": "code",
   "execution_count": 24,
   "metadata": {},
   "outputs": [
    {
     "name": "stdout",
     "output_type": "stream",
     "text": [
      "i found this place on yelp and decided to give it a try.  i was not disappointed.\n",
      "\n",
      "the food was excellent. the service was great. i had the chicken parmigiana and my wife had a chicken sandwich. both were excellent and the portions were large. we also had an appetizer of mozzarella sticks. they were very good. my only complaint was that the mojo pork was a little too salty. however, the sandwich was delicious. it was served with a great service is a nice and i would be a very well worth the best of course was very fresh and very tenderloosephilly cheesesteak sandwich and a must have been a good for sure toasted bread.i've had some of all the size. a lot of the perfect. and it's a perfect for me and filling and well balanced. if you can't really good food is the right next time for the next toasty. this is it came with the way\n"
     ]
    }
   ],
   "source": [
    "text = \"i found\"\n",
    "# encoding the input text\n",
    "input_ids = tokenizer.encode(text, return_tensors='tf')\n",
    "# getting out output\n",
    "output = model.generate(\n",
    "  input_ids,\n",
    "  max_length = 200,\n",
    "  temperature = 0.75,\n",
    "  no_repeat_ngram_size=2,\n",
    "  num_return_sequences=1\n",
    ")\n",
    "outputed = tokenizer.decode(output[0])\n",
    "\n",
    "print(outputed)"
   ]
  },
  {
   "cell_type": "code",
   "execution_count": 21,
   "metadata": {},
   "outputs": [
    {
     "name": "stdout",
     "output_type": "stream",
     "text": [
      "this place is a must try.  i had the bbq shrimp and grits. the shrimp were amazing. i also had a side of the red beans and rice. it was delicious. my husband had an omelet and it also was very good. we will definitely be back.i've been to this place a few times and i've never had anything bad. they have a great selection of food and drinks. their staff is very friendly and helpful.\n",
      "\n",
      "i would recommend this is one of given them 5 stars for sure to say that i would be surprised when i'd rather go back here for the only wish they get a little bit of been happier than 5 starbucks.this is it's a 5thai tea.great place it would definitely give them.sad to get the best thaiwanese. if you get their food\n"
     ]
    }
   ],
   "source": [
    "text = \"this place\"\n",
    "# encoding the input text\n",
    "input_ids = tokenizer.encode(text, return_tensors='tf')\n",
    "# getting out output\n",
    "output = model.generate(\n",
    "  input_ids,\n",
    "  max_length = 175,\n",
    "  temperature = 0.65,\n",
    "  no_repeat_ngram_size=2,\n",
    "  num_return_sequences=1\n",
    ")\n",
    "outputed = tokenizer.decode(output[0])\n",
    "\n",
    "print(outputed)"
   ]
  },
  {
   "cell_type": "code",
   "execution_count": 23,
   "metadata": {},
   "outputs": [
    {
     "name": "stdout",
     "output_type": "stream",
     "text": [
      "the pizza was pretty good.  i had the pepperoni pizza. it was a little greasy but it wasn't bad. the crust was good, but i think it could have used a bit more sauce. i would definitely go back.i've been here twice now. both times were great. great service, great food, and great atmosphere.\n",
      "\n",
      "the only thing that keeps me from giving it 5 stars is that it's a tad pricey. but, i've never been disappointed with the food is the first time.this place is it is worth it just because it has been there is a few things that i guess it seems to this time to come here. they have been to beignoring for the last time i have yet. if you can't come for breakfast. you get the service is always good food was very pleased with anything else. this is, always a couple of the only because the staff is there. always been a long wait staff are always busy, it\n"
     ]
    }
   ],
   "source": [
    "text = \"the pizza\"\n",
    "# encoding the input text\n",
    "input_ids = tokenizer.encode(text, return_tensors='tf')\n",
    "# getting out output\n",
    "output = model.generate(\n",
    "  input_ids,\n",
    "  max_length = 150,\n",
    "  temperature = 0.75,\n",
    "  no_repeat_ngram_size=2,\n",
    "  num_return_sequences=1\n",
    ")\n",
    "outputed = tokenizer.decode(output[0])\n",
    "\n",
    "print(outputed)"
   ]
  },
  {
   "cell_type": "code",
   "execution_count": 25,
   "metadata": {},
   "outputs": [
    {
     "name": "stdout",
     "output_type": "stream",
     "text": [
      "i look forward to trying more of their menu items. \n",
      "\n",
      "the service was excellent. the staff was very friendly and attentive. i would definitely recommend this place to anyone.i've been here a few times now and i've always enjoyed it. it's a great place for a casual date or a night out with friends.\n",
      "i usually get the pad thai with chicken or shrimp. my boyfriend usually gets the chicken pad seew. he's not a fan of the noodles, but he gets a little bland. this is a lot of course, so i prefer the sauce or the veggies or anything else, and the meatball. but i think it is not so he likes it tastes like most of which is also, it seems to meh. however, i don't like the beef or he finds that's more like a bit bland and he prefers the other than most people who doesn't love the pork chopsticks. so it has a big deal breaker the flavor. we\n"
     ]
    }
   ],
   "source": [
    "text = \"i look forward\"\n",
    "# encoding the input text\n",
    "input_ids = tokenizer.encode(text, return_tensors='tf')\n",
    "# getting out output\n",
    "output = model.generate(\n",
    "  input_ids,\n",
    "  max_length = 200,\n",
    "  temperature = 0.75,\n",
    "  no_repeat_ngram_size=2,\n",
    "  num_return_sequences=1\n",
    ")\n",
    "outputed = tokenizer.decode(output[0])\n",
    "\n",
    "print(outputed)"
   ]
  },
  {
   "attachments": {},
   "cell_type": "markdown",
   "metadata": {},
   "source": [
    "**Make Fake Reviews Dataset**\n",
    "\n",
    "Method: Firstly collect first 3 words from real reviews, standardize them and pass into the generator "
   ]
  },
  {
   "cell_type": "code",
   "execution_count": 3,
   "metadata": {},
   "outputs": [],
   "source": [
    "modelcompile(model)\n",
    "model.load_weights('tmp3\\weights.02.h5') #Rework of large train model before issues with context"
   ]
  },
  {
   "cell_type": "code",
   "execution_count": 5,
   "metadata": {},
   "outputs": [],
   "source": [
    "import csv\n",
    "import string\n",
    "\n",
    "reviews25k = reviews[:25000]\n",
    "\n",
    "def extract3word(reviews, output_filename):\n",
    "    with open(output_filename, 'w', newline='') as output_csv_file:\n",
    "        output_writer = csv.writer(output_csv_file, delimiter=',', quotechar='\"', quoting=csv.QUOTE_MINIMAL)\n",
    "        for row in reviews:\n",
    "            row = row.lower()   \n",
    "            row.replace('[^\\w\\s]','') \n",
    "            row.strip() \n",
    "            row.replace(\"\\n\", \" \") \n",
    "            all_words = row.split()\n",
    "            output_writer.writerow([' '.join(all_words[:3])])"
   ]
  },
  {
   "cell_type": "code",
   "execution_count": 71,
   "metadata": {},
   "outputs": [],
   "source": [
    "extract3word(reviews25k,'3word.csv')"
   ]
  },
  {
   "cell_type": "code",
   "execution_count": 4,
   "metadata": {},
   "outputs": [],
   "source": [
    "threewords = pd.read_csv('3word.csv')\n",
    "threewords = threewords['3words']"
   ]
  },
  {
   "cell_type": "code",
   "execution_count": 89,
   "metadata": {},
   "outputs": [
    {
     "name": "stdout",
     "output_type": "stream",
     "text": [
      "0              if you decide\n",
      "1               i've taken a\n",
      "2          family diner. had\n",
      "3     wow! yummy, different,\n",
      "4          cute interior and\n",
      "5                     i am a\n",
      "6           loved this tour!\n",
      "7    amazingly amazing wings\n",
      "8        this easter instead\n",
      "9                had a party\n",
      "Name: 3words, dtype: object\n"
     ]
    }
   ],
   "source": [
    "print(threewords[:10])"
   ]
  },
  {
   "cell_type": "code",
   "execution_count": 5,
   "metadata": {},
   "outputs": [],
   "source": [
    "import random\n",
    "import csv\n",
    "import string\n",
    "\n",
    "def generationMachine(wordinputs):\n",
    "    for row in wordinputs:   \n",
    "        input_ids = tokenizer.encode(row, return_tensors='tf')\n",
    "        output = model.generate(\n",
    "            input_ids,\n",
    "            max_length = random.randint(150, 250),\n",
    "            temperature = 0.75,\n",
    "            no_repeat_ngram_size=2,\n",
    "            num_return_sequences=1\n",
    "        )\n",
    "        outputed = tokenizer.decode(output[0])\n",
    "        with open('reviews_generated.csv', 'a', newline='') as output_csv_file:\n",
    "            output_writer = csv.writer(output_csv_file)\n",
    "            output_writer.writerow([outputed])"
   ]
  },
  {
   "cell_type": "code",
   "execution_count": 128,
   "metadata": {},
   "outputs": [],
   "source": [
    "three500 = threewords[2:500]\n",
    "generationMachine(three500)"
   ]
  },
  {
   "cell_type": "code",
   "execution_count": 5,
   "metadata": {},
   "outputs": [],
   "source": [
    "revgen = pd.read_csv('reviews_generated.csv')"
   ]
  },
  {
   "cell_type": "code",
   "execution_count": 133,
   "metadata": {},
   "outputs": [
    {
     "name": "stdout",
     "output_type": "stream",
     "text": [
      "                                            generated\n",
      "0   if you decide to go, you can't go wrong with t...\n",
      "1   i've taken a few classes here and it's always ...\n",
      "2   family diner. had the eggs benedict and it was...\n",
      "3   wow! yummy, different, and delicious! \\n\\ni ha...\n",
      "4   cute interior and friendly staff.  i had the c...\n",
      "5   i am a fan of this place.  the food is always ...\n",
      "6   loved this tour!  we took the independence hal...\n",
      "7   amazingly amazing wings. \\n\\ni had the bbq chi...\n",
      "8   this easter instead of a full-scale restaurant...\n",
      "9   had a party of 4 and we were seated immediatel...\n",
      "10  my experience with this place was very good.  ...\n",
      "11  locals recommended milktooth, and i am so glad...\n",
      "12  love going here for lunch.  the food is always...\n",
      "13  good food--loved the atmosphere.  the service ...\n",
      "14  the bun makes me drool just thinking about it....\n"
     ]
    }
   ],
   "source": [
    "print(revgen[:15])"
   ]
  },
  {
   "cell_type": "code",
   "execution_count": 134,
   "metadata": {},
   "outputs": [],
   "source": [
    "three500 = threewords[500:750]\n",
    "generationMachine(three500)"
   ]
  },
  {
   "cell_type": "code",
   "execution_count": 135,
   "metadata": {},
   "outputs": [],
   "source": [
    "three500 = threewords[750:1000]\n",
    "generationMachine(three500)"
   ]
  },
  {
   "cell_type": "code",
   "execution_count": 12,
   "metadata": {},
   "outputs": [],
   "source": [
    "three500 = threewords[1000:2250]\n",
    "generationMachine(three500)"
   ]
  },
  {
   "cell_type": "code",
   "execution_count": 7,
   "metadata": {},
   "outputs": [],
   "source": [
    "three500 = threewords[2250:3000]\n",
    "generationMachine(three500)"
   ]
  },
  {
   "cell_type": "code",
   "execution_count": 8,
   "metadata": {},
   "outputs": [],
   "source": [
    "three500 = threewords[3000:3500]\n",
    "generationMachine(three500)"
   ]
  },
  {
   "cell_type": "code",
   "execution_count": null,
   "metadata": {},
   "outputs": [],
   "source": [
    "three500 = threewords[3500:4000]\n",
    "generationMachine(three500)"
   ]
  },
  {
   "cell_type": "code",
   "execution_count": 6,
   "metadata": {},
   "outputs": [],
   "source": [
    "three500 = threewords[4000:5000]\n",
    "generationMachine(three500)"
   ]
  },
  {
   "cell_type": "code",
   "execution_count": 8,
   "metadata": {},
   "outputs": [],
   "source": [
    "three500 = threewords[5000:6000]\n",
    "generationMachine(three500)"
   ]
  },
  {
   "cell_type": "code",
   "execution_count": 9,
   "metadata": {},
   "outputs": [],
   "source": [
    "three500 = threewords[6000:6500]\n",
    "generationMachine(three500)"
   ]
  },
  {
   "cell_type": "code",
   "execution_count": 10,
   "metadata": {},
   "outputs": [],
   "source": [
    "three500 = threewords[6500:7500]\n",
    "generationMachine(three500)"
   ]
  },
  {
   "cell_type": "code",
   "execution_count": 11,
   "metadata": {},
   "outputs": [],
   "source": [
    "three500 = threewords[7500:8000]\n",
    "generationMachine(three500)"
   ]
  }
 ],
 "metadata": {
  "kernelspec": {
   "display_name": "tf",
   "language": "python",
   "name": "python3"
  },
  "language_info": {
   "codemirror_mode": {
    "name": "ipython",
    "version": 3
   },
   "file_extension": ".py",
   "mimetype": "text/x-python",
   "name": "python",
   "nbconvert_exporter": "python",
   "pygments_lexer": "ipython3",
   "version": "3.9.15"
  },
  "orig_nbformat": 4,
  "vscode": {
   "interpreter": {
    "hash": "9396d7d05074184ad1bdffa89c9baf4b70aedb99cfe5c454adbba107973e00ee"
   }
  }
 },
 "nbformat": 4,
 "nbformat_minor": 2
}
